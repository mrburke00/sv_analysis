{
 "cells": [
  {
   "cell_type": "code",
   "execution_count": null,
   "id": "c51ad665-1305-48c8-9a3c-c983e4a5b9ed",
   "metadata": {},
   "outputs": [],
   "source": [
    "import upsetplot as up\n",
    "import matplotlib.pyplot as plt\n",
    "import pandas as pd\n",
    "import numpy as np\n",
    "import random\n",
    "import re"
   ]
  },
  {
   "cell_type": "code",
   "execution_count": null,
   "id": "501d60ec-7e0a-4efa-9be2-973799d5cb49",
   "metadata": {},
   "outputs": [],
   "source": [
    "species = \"horse\"\n",
    "bed_file = 'horse/'+'sep1_244_gene_ant.bed' # contains loci for all sep1 coordinates\n",
    "base_bed_file = 'horse/gene_ant_full.txt'\n",
    "results_file = 'horse/'+'v2output_sep1.txt'# contains VCF info for every sample that has SV in one of the identified coordinates"
   ]
  },
  {
   "cell_type": "code",
   "execution_count": null,
   "id": "073e2ce5-223e-49e2-9727-0cd0b4e48632",
   "metadata": {},
   "outputs": [],
   "source": [
    "# get all loci\n",
    "entries = []\n",
    "with open(bed_file) as f:\n",
    "    lines = f.readlines()\n",
    "    for line in lines: #\n",
    "        line = line.split()\n",
    "        end = int(line[1]) + int(line[2])\n",
    "        t = \">\"+line[0]+\":\"+line[1]+\"-\"+str(line[1])\n",
    "        entries.append(t)\n",
    "meta_data = pd.read_csv('horse/horse_sra_simple.csv')\n",
    "meta_data.columns = ['sra','breed']\n",
    "color_col = []\n",
    "for index, row in meta_data.iterrows():\n",
    "    row['breed'] = row['breed'] + str(random.randint(0,9))\n",
    "    #row['breed'] = row['breed']\n",
    "#row['color'] = color_col\n",
    "    #print(meta_data)"
   ]
  },
  {
   "cell_type": "code",
   "execution_count": null,
   "id": "59cc4ab4-5af2-48cd-884f-403572b54f65",
   "metadata": {},
   "outputs": [],
   "source": [
    "samples = {}\n",
    "\n",
    "with open(results_file) as f:\n",
    "    lines = f.readlines()\n",
    "    for line in lines:\n",
    "        if \"output\" in line: # get sample name for each cluster\n",
    "            sample_name = line.split('/')[1].strip() \n",
    "            breed_name = meta_data.loc[meta_data['sra'] == sample_name]\n",
    "            #print(breed_name, sample_name)\n",
    "            breed_name = breed_name['breed'].values[0]\n",
    "            samples[breed_name] = np.zeros(len(entries)) \n",
    "        else: # if not a sample name then get vcf info\n",
    "            t = line.split()\n",
    "            chrom = t[0]\n",
    "            start = t[1]\n",
    "            end = start\n",
    "            seq = re.search('SVINSSEQ=(.*);SPLIT_READS',line)\n",
    "            seq = seq.group(1)\n",
    "            s = \">\"+chrom+\":\"+start+\"-\"+end\n",
    "            if s in entries and chrom not in  ['X', 'Y']: # check which SV in reference to TE loci \n",
    "                idx = entries.index(s)\n",
    "                samples[breed_name][idx] = 1\n"
   ]
  },
  {
   "cell_type": "code",
   "execution_count": 43,
   "id": "55f47892-90c5-469a-825a-fad5bcf7d335",
   "metadata": {},
   "outputs": [
    {
     "name": "stdout",
     "output_type": "stream",
     "text": [
      "Index(['AKHAL-TEKE3', 'AKHAL-TEKE7', 'AKHAL-TEKE9', 'ARABIAN1', 'ARABIAN3',\n",
      "       'ARABIAN4', 'ARABIAN5', 'ARABIAN6', 'CRIOLLO0', 'CURLY HORSE2',\n",
      "       'DEBAO1', 'DEBAO5', 'FRIESIAN0', 'FRIESIAN2', 'FRIESIAN7', 'FRIESIAN9',\n",
      "       'HANOVARIAN7', 'JEJU HORSE9', 'MONGOLIAN1', 'MONGOLIAN2', 'MONGOLIAN5',\n",
      "       'MONGOLIAN8', 'PRZEWALSKI1', 'PRZEWALSKI2', 'PRZEWALSKI4',\n",
      "       'PRZEWALSKI7', 'QUARTER HORSE0', 'QUARTER HORSE1', 'QUARTER HORSE3',\n",
      "       'QUARTER HORSE6', 'QUARTER HORSE8', 'THOROUGHBRED2', 'THOROUGHBRED4',\n",
      "       'THOROUGHBRED5', 'THOROUGHBRED8', 'THOROUGHBRED9'],\n",
      "      dtype='object')\n"
     ]
    }
   ],
   "source": [
    "df=pd.DataFrame.from_dict(samples,orient='index').transpose()\n",
    "cols = list(df.columns.values)\n",
    "cols = sorted(cols, key=str.lower)\n",
    "df_new = df[cols]\n",
    "df_new = df_new.T\n",
    "print(df_new.index)"
   ]
  },
  {
   "cell_type": "code",
   "execution_count": 47,
   "id": "537d4ff5-8238-466b-b857-e9abb3463d56",
   "metadata": {},
   "outputs": [
    {
     "name": "stdout",
     "output_type": "stream",
     "text": [
      "dict_keys(['HANOVARIAN7', 'PRZEWALSKI4', 'PRZEWALSKI1', 'PRZEWALSKI7', 'PRZEWALSKI2', 'QUARTER HORSE0', 'QUARTER HORSE3', 'THOROUGHBRED4', 'QUARTER HORSE6', 'THOROUGHBRED8', 'THOROUGHBRED5', 'QUARTER HORSE8', 'THOROUGHBRED2', 'ARABIAN4', 'ARABIAN3', 'ARABIAN5', 'MONGOLIAN2', 'MONGOLIAN1', 'MONGOLIAN8', 'MONGOLIAN5', 'AKHAL-TEKE3', 'AKHAL-TEKE9', 'FRIESIAN9', 'FRIESIAN0', 'THOROUGHBRED9', 'JEJU HORSE9', 'CURLY HORSE2', 'FRIESIAN7', 'FRIESIAN2', 'DEBAO1', 'DEBAO5', 'CRIOLLO0', 'AKHAL-TEKE7', 'ARABIAN6', 'ARABIAN1', 'QUARTER HORSE1'])\n"
     ]
    },
    {
     "ename": "KeyError",
     "evalue": "0",
     "output_type": "error",
     "traceback": [
      "\u001b[0;31m---------------------------------------------------------------------------\u001b[0m",
      "\u001b[0;31mKeyError\u001b[0m                                  Traceback (most recent call last)",
      "File \u001b[0;32m~/anaconda3/lib/python3.10/site-packages/pandas/core/indexes/base.py:3802\u001b[0m, in \u001b[0;36mIndex.get_loc\u001b[0;34m(self, key, method, tolerance)\u001b[0m\n\u001b[1;32m   3801\u001b[0m \u001b[38;5;28;01mtry\u001b[39;00m:\n\u001b[0;32m-> 3802\u001b[0m     \u001b[38;5;28;01mreturn\u001b[39;00m \u001b[38;5;28;43mself\u001b[39;49m\u001b[38;5;241;43m.\u001b[39;49m\u001b[43m_engine\u001b[49m\u001b[38;5;241;43m.\u001b[39;49m\u001b[43mget_loc\u001b[49m\u001b[43m(\u001b[49m\u001b[43mcasted_key\u001b[49m\u001b[43m)\u001b[49m\n\u001b[1;32m   3803\u001b[0m \u001b[38;5;28;01mexcept\u001b[39;00m \u001b[38;5;167;01mKeyError\u001b[39;00m \u001b[38;5;28;01mas\u001b[39;00m err:\n",
      "File \u001b[0;32m~/anaconda3/lib/python3.10/site-packages/pandas/_libs/index.pyx:138\u001b[0m, in \u001b[0;36mpandas._libs.index.IndexEngine.get_loc\u001b[0;34m()\u001b[0m\n",
      "File \u001b[0;32m~/anaconda3/lib/python3.10/site-packages/pandas/_libs/index.pyx:165\u001b[0m, in \u001b[0;36mpandas._libs.index.IndexEngine.get_loc\u001b[0;34m()\u001b[0m\n",
      "File \u001b[0;32mpandas/_libs/hashtable_class_helper.pxi:5745\u001b[0m, in \u001b[0;36mpandas._libs.hashtable.PyObjectHashTable.get_item\u001b[0;34m()\u001b[0m\n",
      "File \u001b[0;32mpandas/_libs/hashtable_class_helper.pxi:5753\u001b[0m, in \u001b[0;36mpandas._libs.hashtable.PyObjectHashTable.get_item\u001b[0;34m()\u001b[0m\n",
      "\u001b[0;31mKeyError\u001b[0m: 0",
      "\nThe above exception was the direct cause of the following exception:\n",
      "\u001b[0;31mKeyError\u001b[0m                                  Traceback (most recent call last)",
      "Cell \u001b[0;32mIn[47], line 4\u001b[0m\n\u001b[1;32m      2\u001b[0m ser \u001b[38;5;241m=\u001b[39m []\n\u001b[1;32m      3\u001b[0m \u001b[38;5;28;01mfor\u001b[39;00m col \u001b[38;5;129;01min\u001b[39;00m \u001b[38;5;28mlist\u001b[39m(df_new\u001b[38;5;241m.\u001b[39mcolumns):\n\u001b[0;32m----> 4\u001b[0m     ser\u001b[38;5;241m.\u001b[39mappend(pd\u001b[38;5;241m.\u001b[39mSeries(\u001b[43mdf\u001b[49m\u001b[43m[\u001b[49m\u001b[43mcol\u001b[49m\u001b[43m]\u001b[49m\u001b[38;5;241m.\u001b[39mvalues))\n",
      "File \u001b[0;32m~/anaconda3/lib/python3.10/site-packages/pandas/core/frame.py:3807\u001b[0m, in \u001b[0;36mDataFrame.__getitem__\u001b[0;34m(self, key)\u001b[0m\n\u001b[1;32m   3805\u001b[0m \u001b[38;5;28;01mif\u001b[39;00m \u001b[38;5;28mself\u001b[39m\u001b[38;5;241m.\u001b[39mcolumns\u001b[38;5;241m.\u001b[39mnlevels \u001b[38;5;241m>\u001b[39m \u001b[38;5;241m1\u001b[39m:\n\u001b[1;32m   3806\u001b[0m     \u001b[38;5;28;01mreturn\u001b[39;00m \u001b[38;5;28mself\u001b[39m\u001b[38;5;241m.\u001b[39m_getitem_multilevel(key)\n\u001b[0;32m-> 3807\u001b[0m indexer \u001b[38;5;241m=\u001b[39m \u001b[38;5;28;43mself\u001b[39;49m\u001b[38;5;241;43m.\u001b[39;49m\u001b[43mcolumns\u001b[49m\u001b[38;5;241;43m.\u001b[39;49m\u001b[43mget_loc\u001b[49m\u001b[43m(\u001b[49m\u001b[43mkey\u001b[49m\u001b[43m)\u001b[49m\n\u001b[1;32m   3808\u001b[0m \u001b[38;5;28;01mif\u001b[39;00m is_integer(indexer):\n\u001b[1;32m   3809\u001b[0m     indexer \u001b[38;5;241m=\u001b[39m [indexer]\n",
      "File \u001b[0;32m~/anaconda3/lib/python3.10/site-packages/pandas/core/indexes/base.py:3804\u001b[0m, in \u001b[0;36mIndex.get_loc\u001b[0;34m(self, key, method, tolerance)\u001b[0m\n\u001b[1;32m   3802\u001b[0m     \u001b[38;5;28;01mreturn\u001b[39;00m \u001b[38;5;28mself\u001b[39m\u001b[38;5;241m.\u001b[39m_engine\u001b[38;5;241m.\u001b[39mget_loc(casted_key)\n\u001b[1;32m   3803\u001b[0m \u001b[38;5;28;01mexcept\u001b[39;00m \u001b[38;5;167;01mKeyError\u001b[39;00m \u001b[38;5;28;01mas\u001b[39;00m err:\n\u001b[0;32m-> 3804\u001b[0m     \u001b[38;5;28;01mraise\u001b[39;00m \u001b[38;5;167;01mKeyError\u001b[39;00m(key) \u001b[38;5;28;01mfrom\u001b[39;00m \u001b[38;5;21;01merr\u001b[39;00m\n\u001b[1;32m   3805\u001b[0m \u001b[38;5;28;01mexcept\u001b[39;00m \u001b[38;5;167;01mTypeError\u001b[39;00m:\n\u001b[1;32m   3806\u001b[0m     \u001b[38;5;66;03m# If we have a listlike key, _check_indexing_error will raise\u001b[39;00m\n\u001b[1;32m   3807\u001b[0m     \u001b[38;5;66;03m#  InvalidIndexError. Otherwise we fall through and re-raise\u001b[39;00m\n\u001b[1;32m   3808\u001b[0m     \u001b[38;5;66;03m#  the TypeError.\u001b[39;00m\n\u001b[1;32m   3809\u001b[0m     \u001b[38;5;28mself\u001b[39m\u001b[38;5;241m.\u001b[39m_check_indexing_error(key)\n",
      "\u001b[0;31mKeyError\u001b[0m: 0"
     ]
    }
   ],
   "source": [
    "print(samples.keys())\n",
    "ser = []\n",
    "for col in list(df_new.columns):\n",
    "    ser.append(pd.Series(df[col].values))\n",
    "\n",
    "#cat_series = up.from_contents(samples)\n",
    "#cat_series = [pd.Series(True, index=list(elements), name=name) for name, elements in samples.items()]\n",
    "\n",
    "#print(cat_series)\n",
    "#ser = pd.concat(cat_series)\n",
    "\n",
    "#up.UpSet(ser).plot()"
   ]
  },
  {
   "cell_type": "code",
   "execution_count": null,
   "id": "5d5fba6b-1a82-4cbc-b8c3-7e637f6c0b80",
   "metadata": {},
   "outputs": [],
   "source": [
    "\n",
    "#df_final = df_new.iloc[0:900]\n",
    "#df_final = df_final.transpose()"
   ]
  },
  {
   "cell_type": "code",
   "execution_count": null,
   "id": "23c2f7ea-c604-4751-a616-41e390c9c069",
   "metadata": {},
   "outputs": [],
   "source": []
  }
 ],
 "metadata": {
  "kernelspec": {
   "display_name": "Python 3 (ipykernel)",
   "language": "python",
   "name": "python3"
  },
  "language_info": {
   "codemirror_mode": {
    "name": "ipython",
    "version": 3
   },
   "file_extension": ".py",
   "mimetype": "text/x-python",
   "name": "python",
   "nbconvert_exporter": "python",
   "pygments_lexer": "ipython3",
   "version": "3.10.9"
  }
 },
 "nbformat": 4,
 "nbformat_minor": 5
}
