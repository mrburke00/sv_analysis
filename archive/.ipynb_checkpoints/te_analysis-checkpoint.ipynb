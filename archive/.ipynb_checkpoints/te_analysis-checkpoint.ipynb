{
 "cells": [
  {
   "cell_type": "code",
   "execution_count": null,
   "id": "80693a7c-c8c9-4e4b-b4bc-2b7a3ed506d4",
   "metadata": {},
   "outputs": [],
   "source": [
    "import seaborn as sns\n",
    "import csv\n",
    "import ast \n",
    "import pandas as pd\n",
    "import numpy as np\n",
    "import matplotlib.pyplot as plt\n",
    "from matplotlib.patches import Rectangle\n"
   ]
  },
  {
   "cell_type": "code",
   "execution_count": null,
   "id": "d19337c7-1aa6-462e-bbd4-3d0ea6e1bf28",
   "metadata": {},
   "outputs": [],
   "source": [
    "chrom = []\n",
    "start = []\n",
    "end = []\n",
    "family = []\n",
    "types = []\n",
    "with open('output.txt', newline = '') as f:                                                                                          \n",
    "    data = csv.reader(f, delimiter='\\t')\n",
    "    for line in data:\n",
    "        f = ast.literal_eval(line[3])\n",
    "        t = ast.literal_eval(line[4])\n",
    "        chrom.append(line[0])\n",
    "        s_int = int(line[1])\n",
    "        e_int = int(line[2])\n",
    "        if line[0] == 'chr2':\n",
    "            s_int += 249698942\n",
    "            e_int += 249698942 \n",
    "        if line[0] == 'chr3':\n",
    "            s_int += 492207741\n",
    "            e_int += 492207741\n",
    "        start.append(s_int)\n",
    "        end.append(e_int)\n",
    "        family.append(ast.literal_eval(line[3]))\n",
    "        types.append(ast.literal_eval(line[4]))\n",
    "with open('output2.txt', newline = '') as f:                                                                                          \n",
    "    data = csv.reader(f, delimiter='\\t')\n",
    "    for line in data:\n",
    "        f = ast.literal_eval(line[3])\n",
    "        t = ast.literal_eval(line[4])\n",
    "        chrom.append(line[0])\n",
    "        s_int = int(line[1])\n",
    "        e_int = int(line[2])\n",
    "        if line[0] == 'chr3':\n",
    "            s_int += 492207741\n",
    "            e_int += 492207741\n",
    "        if line[0] == 'chr4':\n",
    "            s_int += 690503300\n",
    "            e_int += 690503300\n",
    "        if line[0] == 'chr5':\n",
    "            s_int += 880717855\n",
    "            e_int += 880717855            \n",
    "        start.append(s_int)\n",
    "        end.append(e_int)\n",
    "        family.append(ast.literal_eval(line[3]))\n",
    "        types.append(ast.literal_eval(line[4]))\n",
    "df = pd.DataFrame()\n",
    "df['chrom'] = chrom\n",
    "df['start'] = start\n",
    "df['end'] = end\n",
    "df['family'] = family\n",
    "df['type'] = types"
   ]
  },
  {
   "cell_type": "code",
   "execution_count": null,
   "id": "e61bc346-ce8e-4d7d-81a2-d47d603af724",
   "metadata": {},
   "outputs": [],
   "source": []
  },
  {
   "cell_type": "code",
   "execution_count": null,
   "id": "efa856c6-57e3-4b17-b34d-8a4534184789",
   "metadata": {},
   "outputs": [],
   "source": [
    "#last_coord = 2270749\n",
    "#first_coord = 803229\n",
    "\n",
    "types = np.array((df['type']))\n",
    "families = np.array((df['family']))\n",
    "#types_f = [i[0] for i in types]\n",
    "type_labels = []\n",
    "starts = []\n",
    "ends = []\n",
    "for idx, t in enumerate(families):\n",
    "    if len(t) > 0:\n",
    "        row = df.iloc[[idx]]\n",
    "        starts.append(int(row['start'].values[0]))\n",
    "        ends.append(int(row['end'].values[0]))\n",
    "        type_labels.append([t[0]])"
   ]
  },
  {
   "cell_type": "code",
   "execution_count": null,
   "id": "151b7b99-4b4b-431d-aad0-96ce7c43755a",
   "metadata": {},
   "outputs": [],
   "source": [
    "captions, unique_idx, caption_inv = np.unique(type_labels, 1, 1)\n",
    "y = (caption_inv + 1) / float(len(captions) + 1)"
   ]
  },
  {
   "cell_type": "code",
   "execution_count": null,
   "id": "d72b735f-9dd8-45f7-a953-941157654cb7",
   "metadata": {},
   "outputs": [],
   "source": [
    "plt.figure(figsize = (15, 50), dpi = 80)\n",
    "\n",
    "plt.hlines(y, starts, ends, 'r', lw=4)\n",
    "plt.vlines(starts, y+0.001, y-0.001, 'r', lw=2)\n",
    "plt.vlines(starts, y+0.001, y-0.001, 'r', lw=2)\n",
    "\n",
    "ax = plt.gca()\n",
    "\n",
    "plt.axvline(x = 0 , color = 'b')\n",
    "plt.axvline(x = 249698942 , color = 'b') #end of chr1\n",
    "plt.axvline(x = 492207741  , color = 'g') # end of chr2\n",
    "plt.axvline(x = 690658697  , color = 'purple') # end of chr3\n",
    "plt.axvline(x = 880717855  , color = 'orange') # end of chr4\n",
    "plt.axvline(x = 1062256114  , color = 'teal') # end of chr5\n",
    "plt.yticks(y[unique_idx], captions)\n",
    "plt.xlabel('Genomic Position')\n",
    "plt.show()\n",
    "plt.savefig('genomic_families.png') "
   ]
  },
  {
   "cell_type": "code",
   "execution_count": null,
   "id": "d60a3588-89f8-4244-a1dd-4d0a739158e7",
   "metadata": {},
   "outputs": [],
   "source": []
  },
  {
   "cell_type": "code",
   "execution_count": 289,
   "id": "182c90b7-0164-40bc-8b09-ea01bdb3299f",
   "metadata": {},
   "outputs": [],
   "source": [
    "types = np.array((df['type']))\n",
    "families = np.array((df['family']))\n",
    "#types_f = [i[0] for i in types]\n",
    "type_labels = []\n",
    "starts = []\n",
    "ends = []\n",
    "for idx, t in enumerate(families):\n",
    "    if len(t) > 0:\n",
    "        row = df.iloc[[idx]]\n",
    "        if row['type'].values[0][0] == 'Satellite':\n",
    "            type_labels.append(row['family'].values[0][0])\n",
    "            starts.append(int(row['start'].values[0]))\n",
    "            ends.append(int(row['end'].values[0]))\n"
   ]
  },
  {
   "cell_type": "code",
   "execution_count": 291,
   "id": "cf334b7e-621d-4fe1-8c73-cc98acc679f0",
   "metadata": {},
   "outputs": [
    {
     "data": {
      "image/png": "[encoded data removed]",
      "text/plain": [
       "<Figure size 480x480 with 1 Axes>"
      ]
     },
     "metadata": {},
     "output_type": "display_data"
    }
   ],
   "source": [
    "captions, unique_idx, caption_inv = np.unique(type_labels, 1, 1)\n",
    "y = (caption_inv + 1) / float(len(captions) + 1)\n",
    "plt.figure(figsize = (6, 6), dpi = 80)\n",
    "\n",
    "plt.hlines(y, starts, ends, 'r', lw=4)\n",
    "plt.vlines(starts, y+0.009, y-0.009, 'r', lw=2)\n",
    "plt.vlines(starts, y+0.009, y-0.009, 'r', lw=2)\n",
    "\n",
    "ax = plt.gca()\n",
    "\n",
    "plt.axvline(x = 0 , color = 'b')\n",
    "plt.axvline(x = 249698942 , color = 'b') #end of chr1\n",
    "plt.axvline(x = 492207741  , color = 'g') # end of chr2\n",
    "plt.axvline(x = 690658697  , color = 'purple') # end of chr3\n",
    "plt.axvline(x = 880717855  , color = 'orange') # end of chr4\n",
    "plt.axvline(x = 1062256114  , color = 'teal') # end of chr5\n",
    "plt.yticks(y[unique_idx], captions)\n",
    "plt.xlabel('Genomic Position')\n",
    "#plt.show()\n",
    "plt.savefig('sat.png') "
   ]
  },
  {
   "cell_type": "code",
   "execution_count": 269,
   "id": "c7ced97a-c002-4a18-b89f-8fdef14bafd2",
   "metadata": {},
   "outputs": [
    {
     "name": "stdout",
     "output_type": "stream",
     "text": [
      "done\n"
     ]
    }
   ],
   "source": [
    "print('done')"
   ]
  },
  {
   "cell_type": "code",
   "execution_count": null,
   "id": "d0389e8e-aa68-4f5a-a882-ac2c2a231a22",
   "metadata": {},
   "outputs": [],
   "source": []
  },
  {
   "cell_type": "code",
   "execution_count": null,
   "id": "5f0caf50-5fba-4b55-8325-4476ae397c87",
   "metadata": {},
   "outputs": [],
   "source": [
    "\n",
    "    \n",
    "            "
   ]
  },
  {
   "cell_type": "code",
   "execution_count": null,
   "id": "884e9115-1f50-4ea7-b2e5-7c3e0d12cdf3",
   "metadata": {},
   "outputs": [],
   "source": []
  },
  {
   "cell_type": "code",
   "execution_count": null,
   "id": "dcd58c0e-7437-49df-b810-5a21c373c9ed",
   "metadata": {},
   "outputs": [],
   "source": []
  },
  {
   "cell_type": "code",
   "execution_count": null,
   "id": "bbf68308-8110-4b04-86ac-2c2da290a78a",
   "metadata": {},
   "outputs": [],
   "source": [
    "'''\n",
    "#df.loc[df['chrom'] == 'chr4']\n",
    "#1 0 - 3947\n",
    "#2 3948 - 7650\n",
    "#3 7651 - 7728\n",
    "\n",
    "    chrom = []\n",
    "    start = []\n",
    "    end = []\n",
    "    family = []\n",
    "    types = []\n",
    "    with open('output.txt', newline = '') as f:                                                                                          \n",
    "        data = csv.reader(f, delimiter='\\t')\n",
    "        for line in data:\n",
    "            f = ast.literal_eval(line[3])\n",
    "            t = ast.literal_eval(line[4])\n",
    "            if len(t) > 0 and len(f) > 0:\n",
    "                chrom.append(line[0])\n",
    "                start.append(line[1])\n",
    "                end.append(line[2])\n",
    "                family.append(ast.literal_eval(line[3]))\n",
    "                types.append(ast.literal_eval(line[4]))\n",
    "            \n",
    "df = pd.DataFrame()\n",
    "df['chrom'] = chrom\n",
    "df['start'] = start\n",
    "df['end'] = end\n",
    "df['family'] = family\n",
    "df['type'] = types\n",
    "\n",
    "idx = np.arange(0, len(df), 1)\n",
    "types = np.array((df['type']))\n",
    "types_f = [i[0] for i in types]\n",
    "\n",
    "print(fs[0:50])\n",
    "\n",
    "sns.despine(bottom=True, left=True)\n",
    "sns.stripplot(x=idx, y=fs)\n",
    "families = np.array((df['family']))\n",
    "families_f = [i[0] for i in families]\n",
    "#sort_fs = sorted(fs)\n",
    "SINE = [None] * len(df)\n",
    "LTR = [None] * len(df)\n",
    "retro = [None] * len(df)\n",
    "LINE = [None] * len(df)\n",
    "DNA = [None] * len(df)\n",
    "sat = [None] * len(df)\n",
    "unk = [None] * len(df)\n",
    "for i,(f,t) in enumerate(zip(families_f, types_f)):\n",
    "    if t == 'SINE':\n",
    "        SINE[i] = f\n",
    "    if t == 'LTR':\n",
    "        LTR[i] = f\n",
    "    if t == 'Retroposon':\n",
    "        retro[i] = f\n",
    "    if t == 'LINE': \n",
    "        LINE[i] = f\n",
    "    if t == 'DNA':\n",
    "        DNA[i] = f\n",
    "    if t == 'Satellite':\n",
    "        sat[i] = f\n",
    "    if t == 'Unknown':\n",
    "        unk[i] = f\n",
    "sns.despine(bottom=True, left=True)\n",
    "sns.stripplot(x=idx, y=sat)\n",
    "sns.set(rc={'figure.figsize':(5.7,9.27)})\n",
    "plt.savefig('sat.png') \n",
    "'''\n",
    "#coords = np.arange(0, last_coord, 1)\n",
    "#SINE = np.zeros(2270749)\n",
    "#for index, row in df.iterrows():\n",
    "#    beg = row['start']\n",
    "#    end = row['end']\n",
    "#    tp_coords = np.arange(int(beg),int(end),1)\n",
    "#    if len(row['type']) > 0 and row['type'][0] == 'SINE':\n",
    "#        SINE[tp_coords[0]:tp_coords[-1]] = 1\n",
    "#    else:\n",
    "#        SINE[tp_coords[0]:tp_coords[-1]] = -1\n",
    "#SINE = SINE[first_coord:]\n",
    "#coords = coords[first_coord:]"
   ]
  }
 ],
 "metadata": {
  "kernelspec": {
   "display_name": "Python 3 (ipykernel)",
   "language": "python",
   "name": "python3"
  },
  "language_info": {
   "codemirror_mode": {
    "name": "ipython",
    "version": 3
   },
   "file_extension": ".py",
   "mimetype": "text/x-python",
   "name": "python",
   "nbconvert_exporter": "python",
   "pygments_lexer": "ipython3",
   "version": "3.8.2"
  }
 },
 "nbformat": 4,
 "nbformat_minor": 5
}
