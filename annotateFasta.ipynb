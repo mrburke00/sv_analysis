{
 "cells": [
  {
   "cell_type": "code",
   "execution_count": 50,
   "id": "4d18a837-346c-4176-b16f-e27460d89f75",
   "metadata": {},
   "outputs": [],
   "source": [
    "import pandas as pd\n",
    "import matplotlib.pyplot as plt\n",
    "import numpy as np"
   ]
  },
  {
   "cell_type": "code",
   "execution_count": 72,
   "id": "ecd75f97-c535-4efc-9dea-72bb6bc96935",
   "metadata": {},
   "outputs": [],
   "source": [
    "species = \"horse\"\n",
    "te_file = 'horse/'+species+'_244_te.txt'\n",
    "sv_file= 'horse/'+species+'_insertion_244.txt'\n",
    "output_file = 'horse/'+species+'_annotated_244.txt'\n",
    "output_dups_file = 'horse/'+species+'_final_244.txt'"
   ]
  },
  {
   "cell_type": "code",
   "execution_count": 52,
   "id": "1e2f8de9-c561-4af1-a3db-58c846fc5332",
   "metadata": {},
   "outputs": [
    {
     "name": "stdout",
     "output_type": "stream",
     "text": [
      "  chromA   startA     endA subfam      fam chromB   startB     endB    species\n",
      "0      1  2163380  2163484  L1ME2  LINE/L1      1  2163415  2163415      akhal\n",
      "1      1  2163380  2163484  L1ME2  LINE/L1      1  2163395  2163395    arabian\n",
      "2      1  2163380  2163484  L1ME2  LINE/L1      1  2163415  2163415    quarter\n",
      "3      1  2163380  2163484  L1ME2  LINE/L1      1  2163415  2163415    quarter\n",
      "4      1  2163380  2163484  L1ME2  LINE/L1      1  2163415  2163415  mongolian\n"
     ]
    }
   ],
   "source": [
    "df_te = pd.read_csv(te_file, sep='\\t', lineterminator='\\n')\n",
    "df_te.columns = ['chromA','startA','endA','subfam','fam', 'chromB','startB','endB','species']\n",
    "print(df_te.head())"
   ]
  },
  {
   "cell_type": "code",
   "execution_count": 58,
   "id": "d54fb731-59fd-4b65-a414-0d01732d60d1",
   "metadata": {},
   "outputs": [
    {
     "name": "stdout",
     "output_type": "stream",
     "text": [
      "done\n"
     ]
    }
   ],
   "source": [
    "with open(sv_file) as f:\n",
    "    with open(output_file, 'w') as r:\n",
    "        lines = f.readlines()\n",
    "        for line in lines:\n",
    "            line = line.split()\n",
    "            if \">\" in line[0]:\n",
    "                seq = \"\"\n",
    "                t = line[0].split(\":\")\n",
    "                chrom = t[0].strip(\">\")\n",
    "                start = t[1].split(\"-\")[0]\n",
    "                end = t[1].split(\"-\")[0]\n",
    "                spec = t[1].split(\"?\")[1]\n",
    "                df_query = df_te.loc[(df_te['chromB'] == chrom) & (df_te['startB'] == int(start))]\n",
    "                if len(df_query) > 0:\n",
    "                    for i,row in df_query.iterrows():\n",
    "                        subfam = row['subfam']\n",
    "                        fam = row['fam']\n",
    "                        break\n",
    "                    line[0] += \";\"+fam+\",\"+subfam\n",
    "                header = line[0]\n",
    "            else:\n",
    "                seq = line[0]\n",
    "            if seq != '':\n",
    "                r.write(header + '\\n')\n",
    "                r.write(seq + '\\n')\n",
    "print('done')"
   ]
  },
  {
   "cell_type": "code",
   "execution_count": 91,
   "id": "0c733776-f5ac-4cca-8ffd-2b12697547e8",
   "metadata": {},
   "outputs": [
    {
     "name": "stdout",
     "output_type": "stream",
     "text": [
      "  chrom      start        end     species            fam   subfam  \\\n",
      "0     1   43943650   43943650  przewalski             NA       NA   \n",
      "1     1   71425667   71425667  przewalski  DNA/TcMar-Tc2  Kanga1a   \n",
      "3     1  156704553  156704553  przewalski             NA       NA   \n",
      "4     1  182960158  182960158  przewalski             NA       NA   \n",
      "6     2   60216026   60216026  przewalski             NA       NA   \n",
      "\n",
      "                                                 seq  \n",
      "0  GGGCTGGCCCCGTGGCCGAGTGGTTAAGTTCGCGCGCTCCGCTGCA...  \n",
      "1  GGGGCTGGCCCCGTGGCCGAGCGGTTAAGTTCGCGCGCTCCGCTGC...  \n",
      "3  GTATTTGGAGTTTGGTTTTGGTGTTGTTTCTTGGGCTCCAATCAGT...  \n",
      "4  GGGGCTGGCCCCGTGGCCAAGTGGTTAAGTTCGCGCGCTCCGCTGC...  \n",
      "6  CTCAACCACAGAACTTTTTTTTTTTTTTTTTAAAGATTTTATTTTT...  \n"
     ]
    }
   ],
   "source": [
    "### check for duplicates ####\n",
    "chroms = []\n",
    "starts = []\n",
    "ends = []\n",
    "seqs = []\n",
    "species = []\n",
    "families = []\n",
    "subfamilies = []\n",
    "with open(output_file) as f:\n",
    "    lines = f.readlines()\n",
    "    for line in lines:\n",
    "        line = line.split()\n",
    "        if \">\" in line[0]:\n",
    "            seq = \"\"\n",
    "            t = line[0].split(\":\")\n",
    "            chrom = t[0].strip(\">\")\n",
    "            start = t[1].split(\"-\")[0]\n",
    "            end = t[1].split(\"-\")[0]\n",
    "            spec = t[1].split(\"?\")[1]\n",
    "            if \";\" in t[1]:\n",
    "                spec = spec.split(\";\")[0]\n",
    "                fams = t[1].split(\";\")[1]\n",
    "                families.append(fams.split(\",\")[0])\n",
    "                subfamilies.append(fams.split(\",\")[1])\n",
    "            else:\n",
    "                families.append(\"NA\")\n",
    "                subfamilies.append(\"NA\")\n",
    "            chroms.append(chrom)\n",
    "            starts.append(start)\n",
    "            ends.append(end)\n",
    "            species.append(spec)\n",
    "        else:\n",
    "            seq = line[0]\n",
    "            seqs.append(seq)\n",
    "df = pd.DataFrame()\n",
    "df['chrom'] = chroms\n",
    "df['start'] = starts\n",
    "df['end'] = ends\n",
    "df['species'] = species\n",
    "df['fam'] = families\n",
    "df['subfam'] = subfamilies\n",
    "df['seq'] = seqs\n",
    "df = df.drop_duplicates(subset='start', keep='first')\n",
    "df = df[df['fam']!='LINE/L1']\n",
    "print(df.head())         "
   ]
  },
  {
   "cell_type": "code",
   "execution_count": 92,
   "id": "74c6a8be-66bb-4f94-bfdd-abdba82f125c",
   "metadata": {},
   "outputs": [],
   "source": [
    "with open(output_dups_file, 'w') as f:\n",
    "    for i,row in df.iterrows():\n",
    "        coords = '>'+str(row['chrom'])+':'+str(row['start'])+'-'+str(row['end']) \\\n",
    "            +\"?\"+str(row['species'])+\";\"+str(row['fam'])+','+str(row['subfam'])\n",
    "        #coords = str(row['chrom'])+'\\t'+str(row['start'])+'\\t'+str(row['end'])\n",
    "        f.write(coords)\n",
    "        f.write('\\n')\n",
    "        f.write(row['seq'])\n",
    "        f.write('\\n')"
   ]
  },
  {
   "cell_type": "code",
   "execution_count": null,
   "id": "93760491-66ec-4132-be56-743b112b39ea",
   "metadata": {},
   "outputs": [],
   "source": []
  }
 ],
 "metadata": {
  "kernelspec": {
   "display_name": "Python 3 (ipykernel)",
   "language": "python",
   "name": "python3"
  },
  "language_info": {
   "codemirror_mode": {
    "name": "ipython",
    "version": 3
   },
   "file_extension": ".py",
   "mimetype": "text/x-python",
   "name": "python",
   "nbconvert_exporter": "python",
   "pygments_lexer": "ipython3",
   "version": "3.8.2"
  }
 },
 "nbformat": 4,
 "nbformat_minor": 5
}
