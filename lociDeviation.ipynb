{
 "cells": [
  {
   "cell_type": "code",
   "execution_count": 1,
   "id": "cc9fd76d-ab19-4c7e-afc9-fe11c184342d",
   "metadata": {},
   "outputs": [
    {
     "name": "stderr",
     "output_type": "stream",
     "text": [
      "/Users/DBurke/anaconda3/lib/python3.10/site-packages/Bio/pairwise2.py:278: BiopythonDeprecationWarning: Bio.pairwise2 has been deprecated, and we intend to remove it in a future release of Biopython. As an alternative, please consider using Bio.Align.PairwiseAligner as a replacement, and contact the Biopython developers if you still need the Bio.pairwise2 module.\n",
      "  warnings.warn(\n"
     ]
    }
   ],
   "source": [
    "from Bio import pairwise2\n",
    "from Bio.Seq import Seq\n",
    "import pandas as pd\n",
    "import matplotlib.pyplot as plt\n",
    "import numpy as np\n",
    "import re\n",
    "import seaborn as sns \n",
    "import random\n",
    "from sklearn.decomposition import PCA\n",
    "from sklearn.preprocessing import StandardScaler\n",
    "from sklearn.pipeline import Pipeline\n",
    "import scipy.cluster.hierarchy as shc\n",
    "import collections"
   ]
  },
  {
   "cell_type": "code",
   "execution_count": 2,
   "id": "f66d3cb6-e684-4bc0-93a9-45ae11929453",
   "metadata": {},
   "outputs": [],
   "source": [
    "species = \"horse\"\n",
    "bed_file = 'horse/'+'sep1_244_sorted.bed' # contains loci for all sep1 coordinates\n",
    "results_file = 'horse/'+'v2output_sep1.txt'# contains VCF info for every sample that has SV in one of the identified coordinates"
   ]
  },
  {
   "cell_type": "code",
   "execution_count": 3,
   "id": "286453df-fddb-4936-b5d4-1c800f753957",
   "metadata": {},
   "outputs": [
    {
     "name": "stdout",
     "output_type": "stream",
     "text": [
      "362\n"
     ]
    }
   ],
   "source": [
    "cons_seq = Seq(\"nnnnnnnnnnnnnnnnnnnnnnnnnnnnnnTTTTTTTTTTTTTTTTTTAAAGATTTTATT \\\n",
    "    TTTTCCTTTTTCTCCCCAAAGCCCCnnnnCCGGTACnnnnnnnATAGTTGTGTATTCTTC \\\n",
    "    GTTGTnnnnGGGTTCTTCTAGTnTGTGGCATGTGGGACGCTnGCCTCAGCGTGGTCTGAT \\\n",
    "    GAGCAGTGCCATGTCCGCGCCCAGGATTnCGnnnAACCAACGAAACACTGGGCCGCCTGC \\\n",
    "    AGCGGAGCGCnnnnGnnCGAACTTAACCACTCGGCCACGGGGGCCAGCCCCnnnnnnnnn \\\n",
    "    nnnnnnnnnnnnnnnnnnnnnnnnnnnnnnnnnnnnn\")\n",
    "# Finding similarities\n",
    "#score = pairwise2.align.globalxx(seq1, seq1, score_only = True)\n",
    "#print(score)\n",
    "print(len(cons_seq))\n",
    "colors = {'PRZEWALSKI' : 'red', 'AKHAL-TEKE' : 'blue', 'ARABIAN' : 'green', \\\n",
    "          'QUARTER HORSE' : 'yellow', \"MONGOLIAN\" : \"brown\", \"THOROUGHBRED\" : 'orange', \\\n",
    "          'FRIESIAN' : 'black', 'HANOVARIAN' : 'pink', 'JEJU HORSE' : 'gray', \\\n",
    "          'CURLY HORSE' : 'purple', 'DEBAO' : 'teal', 'CRIOLLO' : 'tan'}"
   ]
  },
  {
   "cell_type": "code",
   "execution_count": 4,
   "id": "28dfc184-3638-42f1-b3d4-e3579a859baf",
   "metadata": {},
   "outputs": [],
   "source": [
    "# get all loci\n",
    "entries = []\n",
    "with open(bed_file) as f:\n",
    "    lines = f.readlines()\n",
    "    for line in lines: #\n",
    "        line = line.split()\n",
    "        end = int(line[1]) + int(line[2])\n",
    "        t = \">\"+line[0]+\":\"+line[1]+\"-\"+str(line[1])\n",
    "        if line[0] not in ['X','Y']:\n",
    "            entries.append(t)\n",
    "meta_data = pd.read_csv('horse/horse_sra_simple.csv')\n",
    "meta_data.columns = ['sra','breed']\n",
    "color_col = []\n",
    "for index, row in meta_data.iterrows():\n",
    "    row['breed'] = row['breed'] + str(random.randint(0,9))"
   ]
  },
  {
   "cell_type": "code",
   "execution_count": 5,
   "id": "02338630-df80-44aa-815f-a4df3ae30a1e",
   "metadata": {},
   "outputs": [
    {
     "name": "stdout",
     "output_type": "stream",
     "text": [
      "36\n"
     ]
    }
   ],
   "source": [
    "samples = {}\n",
    "with open(results_file) as f:\n",
    "    lines = f.readlines()\n",
    "    for line in lines:\n",
    "        if \"output\" in line:\n",
    "            sample_name = line.split('/')[1].strip()\n",
    "            breed_name = meta_data.loc[meta_data['sra'] == sample_name]\n",
    "            #print(breed_name, sample_name)\n",
    "            breed_name = breed_name['breed'].values[0]\n",
    "            samples[breed_name] = np.zeros(len(entries)) \n",
    "            \n",
    "        else:\n",
    "            t = line.split()\n",
    "            chrom = t[0]\n",
    "            start = t[1]\n",
    "            end = start\n",
    "            seq = re.search('SVINSSEQ=(.*);SPLIT_READS',line)\n",
    "            seq = seq.group(1)\n",
    "            s = \">\"+chrom+\":\"+start+\"-\"+end\n",
    "            if s in entries and chrom not in  ['X', 'Y']: # SV is in TE loci, get percent identify to cons seq\n",
    "                idx = entries.index(s)\n",
    "                score = pairwise2.align.globalxx(cons_seq, Seq(seq), score_only = True)\n",
    "                samples[breed_name][idx] = score\n",
    "print(len(samples.keys()))"
   ]
  },
  {
   "cell_type": "code",
   "execution_count": 6,
   "id": "121d630c-ce40-4244-8847-fb21bf16d9c2",
   "metadata": {},
   "outputs": [],
   "source": [
    "df=pd.DataFrame.from_dict(samples,orient='index').transpose()\n",
    "#df = df.loc[:, ~df.columns.str.startswith('QUARTER')]\n",
    "#df = df.loc[:, ~df.columns.str.startswith('FRIESIAN')]\n",
    "#df = df.loc[:, ~df.columns.str.startswith('MONGOLIAN')]\n",
    "#df = df.loc[:, ~df.columns.str.startswith('PRZ')]\n",
    "#df = df.loc[:, ~df.columns.str.startswith('THOROUGH')]\n",
    "#df = df.loc[:, ~df.columns.str.startswith('CRIOLLO')]\n",
    "#df = df.loc[:, ~df.columns.str.startswith('DEBAO')]\n",
    "#df = df.loc[:, ~df.columns.str.startswith('HANOV')]\n",
    "#df = df.loc[:, ~df.columns.str.startswith('JEJU')]\n",
    "#df = df.loc[:, ~df.columns.str.startswith('CURLY')]\n",
    "#df = df.loc[:, ~df.columns.str.startswith('AKHAL')]\n",
    "#df = df.loc[:, ~df.columns.str.startswith('ARAB')]\n",
    "\n",
    "cols = list(df.columns.values)\n",
    "cols = sorted(cols, key=str.lower)\n",
    "df_new = df[cols]\n",
    "df_final = df_new.iloc[0:900]\n",
    "df_final = df_final.transpose()"
   ]
  },
  {
   "cell_type": "code",
   "execution_count": 7,
   "id": "d8a8dab8-b060-49ae-ac11-3889712c928c",
   "metadata": {},
   "outputs": [
    {
     "name": "stdout",
     "output_type": "stream",
     "text": [
      "             0    1      2    3      4      5      6    7    8    9    ...  \\\n",
      "AKHAL-TEKE0  0.0  0.0    0.0  0.0  230.0    0.0  222.0  0.0  0.0  0.0  ...   \n",
      "AKHAL-TEKE5  0.0  0.0    0.0  0.0  230.0  225.0    0.0  0.0  0.0  0.0  ...   \n",
      "AKHAL-TEKE8  0.0  0.0  230.0  0.0    0.0    0.0  222.0  0.0  0.0  0.0  ...   \n",
      "ARABIAN3     0.0  0.0  230.0  0.0    0.0    0.0  222.0  0.0  0.0  0.0  ...   \n",
      "ARABIAN4     0.0  0.0    0.0  0.0    0.0    0.0  222.0  0.0  0.0  0.0  ...   \n",
      "\n",
      "               801  802  803  804  805    806  807  808  809    810  \n",
      "AKHAL-TEKE0    0.0  0.0  0.0  0.0  0.0    0.0  0.0  0.0  0.0    0.0  \n",
      "AKHAL-TEKE5    0.0  0.0  0.0  0.0  0.0    0.0  0.0  0.0  0.0    0.0  \n",
      "AKHAL-TEKE8  229.0  0.0  0.0  0.0  0.0    0.0  0.0  0.0  0.0    0.0  \n",
      "ARABIAN3       0.0  0.0  0.0  0.0  0.0  220.0  0.0  0.0  0.0  226.0  \n",
      "ARABIAN4     229.0  0.0  0.0  0.0  0.0    0.0  0.0  0.0  0.0    0.0  \n",
      "\n",
      "[5 rows x 811 columns]\n"
     ]
    }
   ],
   "source": [
    "print(df_final.head())"
   ]
  },
  {
   "cell_type": "code",
   "execution_count": 8,
   "id": "2d49162f-b49b-48c8-81ad-b45e4c30557d",
   "metadata": {},
   "outputs": [
    {
     "name": "stdout",
     "output_type": "stream",
     "text": [
      "{'AKHAL-TEKE': [], 'ARABIAN': [], 'CRIOLLO': [], 'CURLY HORSE': [], 'DEBAO': [], 'FRIESIAN': [], 'HANOVARIAN': [], 'JEJU HORSE': [], 'MONGOLIAN': [], 'PRZEWALSKI': [], 'QUARTER HORSE': [], 'THOROUGHBRED': []}\n"
     ]
    }
   ],
   "source": [
    "s_names = list(df_final.iloc[:,0].index)\n",
    "breed_names = s_names\n",
    "breed_names = [s[: -1] for s in s_names]\n",
    "contents = {s:[] for s in breed_names}\n",
    "print(contents)\n",
    "# get matrix for each breed\n",
    "i = 0\n",
    "for idx,row in df_final.iterrows():\n",
    "    new_entry = {}\n",
    "    new_entry[idx] = list(row.values)\n",
    "    contents[idx[:-1]].append(new_entry)"
   ]
  },
  {
   "cell_type": "code",
   "execution_count": null,
   "id": "1cdcd1a1-89b5-45b4-b17b-9fa0a461f611",
   "metadata": {},
   "outputs": [],
   "source": []
  },
  {
   "cell_type": "code",
   "execution_count": 9,
   "id": "514bacdb-be42-40d6-bb68-38d01bb640be",
   "metadata": {},
   "outputs": [],
   "source": [
    "# get min and max of each column for each breed \n",
    "breed_devs = {s:[] for s in breed_names}\n",
    "for breed in contents.keys():\n",
    "    breed_matrix = []\n",
    "    for i in range(len(contents[breed])):\n",
    "        sample = list(contents[breed][i].keys())[0]\n",
    "        breed_matrix.append(contents[breed][i][sample])\n",
    "    breed_matrix = np.array(breed_matrix)\n",
    "    df = pd.DataFrame(breed_matrix)\n",
    "    minvals = df[df>0.01].min(axis=0).values\n",
    "    maxvals = df.max(axis=0).values\n",
    "    breed_devs[breed] = (minvals, maxvals)"
   ]
  },
  {
   "cell_type": "code",
   "execution_count": 10,
   "id": "d39df516-febf-4f2c-95b0-1df719fe878a",
   "metadata": {},
   "outputs": [],
   "source": [
    "s_names = list(df_final.iloc[:,0].index)\n",
    "breed_names = s_names\n",
    "breed_names = [s[: -1] for s in s_names]\n",
    "breed_count = collections.Counter(breed_names)\n",
    "contents = []\n",
    "i = 0 \n",
    "for i in range(len(df_final.columns)):\n",
    "    vals = np.array(df_final.iloc[:,i].values)\n",
    "    idx = np.where(vals!=0)[0]\n",
    "    pos_hits = [s_names[n][:-1] for n in idx]\n",
    "    \n",
    "    c = collections.Counter(pos_hits)\n",
    "    #contents.append({k: v / sum(c.values()) for k, v in c.items()})\n",
    "    #contents.append({k: (v/breed_count[k])/len(c.items()) for k, v in c.items()})\n",
    "    contents.append({k: v for k, v in c.items()})"
   ]
  },
  {
   "cell_type": "code",
   "execution_count": 11,
   "id": "017acfab-d1a1-4082-b712-d6fd923f9f3e",
   "metadata": {},
   "outputs": [],
   "source": [
    "content5 = [contents[i]['THOROUGHBRED'] for i in range(0,len(minvals)) if 'THOROUGHBRED' in contents[i].keys()]"
   ]
  },
  {
   "cell_type": "code",
   "execution_count": 89,
   "id": "2095d43f-3a43-4c6b-b69b-f3adc84dece6",
   "metadata": {},
   "outputs": [],
   "source": [
    "x = range(0,len(minvals))\n",
    "minvals1 = breed_devs['ARABIAN'][0]\n",
    "maxvals1 = breed_devs['ARABIAN'][1]\n",
    "content1 = [contents[i]['ARABIAN']/10  if 'ARABIAN' in contents[i].keys() else 1 for i in range(0,len(minvals))]\n",
    "minvals2 = breed_devs['AKHAL-TEKE'][0]\n",
    "maxvals2 = breed_devs['AKHAL-TEKE'][1]\n",
    "content2 = [contents[i]['AKHAL-TEKE']/10  if 'AKHAL-TEKE' in contents[i].keys() else 1 for i in range(0,len(minvals))]\n",
    "minvals3 = breed_devs['MONGOLIAN'][0]\n",
    "maxvals3 = breed_devs['MONGOLIAN'][1]\n",
    "content3 = [contents[i]['MONGOLIAN']/10 if 'MONGOLIAN' in contents[i].keys() else 1 for i in range(0,len(minvals))]\n",
    "minvals4 = breed_devs['PRZEWALSKI'][0]\n",
    "maxvals4 = breed_devs['PRZEWALSKI'][1]\n",
    "content4 = [contents[i]['PRZEWALSKI']/10 if 'PRZEWALSKI' in contents[i].keys() else 1 for i in range(0,len(minvals))]\n",
    "minvals5 = breed_devs['THOROUGHBRED'][0]\n",
    "maxvals5 = breed_devs['THOROUGHBRED'][1]\n",
    "content5 = [contents[i]['THOROUGHBRED']/10  if 'THOROUGHBRED' in contents[i].keys() else 1 for i in range(0,len(minvals))]\n",
    "\n",
    "#plt.xlim(0,100)"
   ]
  },
  {
   "cell_type": "code",
   "execution_count": 90,
   "id": "77273bf6-caa5-4d73-94e4-ade6fec3c7cd",
   "metadata": {},
   "outputs": [
    {
     "data": {
      "text/plain": [
       "Text(0, 0.5, 'PID Score')"
      ]
     },
     "execution_count": 90,
     "metadata": {},
     "output_type": "execute_result"
    },
    {
     "data": {
      "image/png": "[encoded data removed]",
      "text/plain": [
       "<Figure size 640x480 with 1 Axes>"
      ]
     },
     "metadata": {},
     "output_type": "display_data"
    }
   ],
   "source": [
    "#plt.plot(range(0,len(minvals1)), [i for i in minvals1],  marker = '.', c='black', alpha = 0.4, linestyle = 'None', markersize = 1)\n",
    "#plt.plot(range(0,len(minvals1)), [i for i in maxvals1],  marker = '.', c='black', alpha = 0.4, linestyle = 'None', markersize = 1)\n",
    "blue = plt.plot((x,x), ([i for i in maxvals1],[j for j in minvals1]), c='blue', alpha = 0.1, label = 'ARABIAN')\n",
    "\n",
    "#plt.plot(x, [k for k in minvals2],marker = '.', c='black', alpha = 0.4, linestyle = 'None', markersize = 1)\n",
    "#plt.plot(x, [i for i in maxvals2],marker = '.', c='black', alpha = 0.4, linestyle = 'None', markersize = 1)\n",
    "green = plt.plot((x,x), ([i for i in maxvals2],[j for j in minvals2]), c='green', alpha = 0.2, label = 'AKHAL-TEKE')\n",
    "\n",
    "#plt.plot(x, [k for k in minvals3],marker = '.', c='black', alpha = 0.4, linestyle = 'None', markersize = 1)\n",
    "#plt.plot(x, [i for i in maxvals3],marker = '.', c='black', alpha = 0.4, linestyle = 'None', markersize = 1)\n",
    "red = plt.plot((x,x), ([i for i in maxvals3],[j for j in minvals3]), c='red', alpha = 0.2, label = 'MONGOLIAN')\n",
    "\n",
    "#plt.plot(x, [k for k in minvals4],marker = '.', c='black', alpha = 0.4, linestyle = 'None', markersize = 1)\n",
    "#plt.plot(x, [i for i in maxvals4],marker = '.', c='black', alpha = 0.4, linestyle = 'None', markersize = 1)\n",
    "gray = plt.plot((x,x), ([i for i in maxvals4],[j for j in minvals4]), c='gray', alpha = 0.1, label = 'PRZEWALSKI')\n",
    "\n",
    "#plt.plot(x, [k for k in minvals5],marker = '.', c='black', alpha = 0.4, linestyle = 'None', markersize = 1)\n",
    "#plt.plot(x, [i for i in maxvals5],marker = '.', c='black', alpha = 0.4, linestyle = 'None', markersize = [i for i in content5])\n",
    "orange = plt.plot((x,x), ([i for i in maxvals5],[j for j in minvals5]), c='orange', alpha = 0.3, label = 'THOROUGHBRED')\n",
    "\n",
    "plt.plot();\n",
    "plt.legend(handles=[blue[0], green[0], red[0], gray[0], orange[0]], loc = 'lower right', fontsize = 8 )\n",
    "plt.ylim(215,240)\n",
    "plt.xlim(0,200)\n",
    "plt.xlabel('Loci')\n",
    "plt.ylabel('PID Score')"
   ]
  },
  {
   "cell_type": "code",
   "execution_count": 127,
   "id": "e62a8b79-6474-4c15-8cf1-0607e1766928",
   "metadata": {},
   "outputs": [
    {
     "data": {
      "text/plain": [
       "Text(0, 0.5, 'PID Score')"
      ]
     },
     "execution_count": 127,
     "metadata": {},
     "output_type": "execute_result"
    },
    {
     "data": {
      "image/png": "[encoded data removed]",
      "text/plain": [
       "<Figure size 640x480 with 1 Axes>"
      ]
     },
     "metadata": {},
     "output_type": "display_data"
    }
   ],
   "source": [
    "sz = 11\n",
    "plt.scatter(x, minvals1, s=sz, alpha=content1, \\\n",
    "                  c='blue', label = 'ARABIAN')\n",
    "plt.scatter(x, maxvals1, alpha = content1, \\\n",
    "                  c='blue', s = sz, label = 'ARABIAN')\n",
    "blue = plt.plot((x,x), ([i for i in maxvals1],[j for j in minvals1]), c='blue', alpha = 0.3, label = 'ARABIAN')\n",
    "\n",
    "pink_x =[y-0.1 for y in x]\n",
    "#pink_x = x\n",
    "plt.scatter(pink_x, minvals2, s=sz, alpha=content2, \\\n",
    "                  c='brown', label = 'AKHAL-TEKE')\n",
    "plt.scatter(pink_x, maxvals2, alpha = content2, \\\n",
    "                  c='brown', s = sz, label = 'AKHAL-TEKE')\n",
    "pink = plt.plot((pink_x,pink_x), ([i for i in maxvals2],[j for j in minvals2]), c='brown', alpha = 0.3, label = 'AKHAL-TEKE')\n",
    "\n",
    "green_x = [y-0.2 for y in x]\n",
    "#green_x = x\n",
    "plt.scatter(green_x, minvals3, s = sz, alpha = content3, \\\n",
    "                  c='green', label = 'MONGOLIAN')\n",
    "plt.scatter(green_x, maxvals3, alpha=content3, \\\n",
    "                  c='green', s = sz, label = 'MONGOLIAN')\n",
    "green = plt.plot((green_x,green_x), ([i for i in maxvals3],[j for j in minvals3]), c='green', alpha = 0.3, label = 'MONGOLIAN')\n",
    "\n",
    "\n",
    "orange_x = [y+0.1 for y in x]\n",
    "#orange_x = x\n",
    "plt.scatter(orange_x, minvals4, s = sz, alpha = content4, \\\n",
    "                  c='orange', label = 'PRZEWALSKI')\n",
    "plt.scatter(orange_x, maxvals4, alpha=content4, \\\n",
    "                  c='orange', s = sz, label = 'PRZEWALSKI')\n",
    "orange = plt.plot((orange_x,orange_x), ([i for i in maxvals4],[j for j in minvals4]), c='orange', alpha = 0.3, label = 'PRZEWALSKI')\n",
    "\n",
    "\n",
    "red_x = [y+0.2 for y in x]\n",
    "#red_x = x\n",
    "plt.scatter(red_x, minvals5, s = sz, alpha=content5, \\\n",
    "                  c='red', label = 'THOROUGHBRED')\n",
    "plt.scatter(red_x, maxvals5, s = sz, alpha=content5, \\\n",
    "                  c='red', label = 'THOROUGHBRED')\n",
    "red = plt.plot((red_x,red_x), ([i for i in maxvals5],[j for j in minvals5]), c='red', alpha = 0.3, label = 'THOROUGHBRED')\n",
    "\n",
    "plt.legend(handles=[blue[0],pink[0],green[0], orange[0], red[0]], loc = 'lower right', fontsize = 8 )\n",
    "plt.ylim(200,240)\n",
    "plt.xlim(320,322)\n",
    "plt.xlabel('Loci')\n",
    "plt.ylabel('PID Score')"
   ]
  },
  {
   "cell_type": "code",
   "execution_count": null,
   "id": "43a91db4-c6cc-4abc-8571-f16780dbc2c1",
   "metadata": {},
   "outputs": [],
   "source": []
  },
  {
   "cell_type": "code",
   "execution_count": null,
   "id": "2b6d7c76-806c-47e8-9c78-37f4eeb6f372",
   "metadata": {},
   "outputs": [],
   "source": []
  }
 ],
 "metadata": {
  "kernelspec": {
   "display_name": "Python 3 (ipykernel)",
   "language": "python",
   "name": "python3"
  },
  "language_info": {
   "codemirror_mode": {
    "name": "ipython",
    "version": 3
   },
   "file_extension": ".py",
   "mimetype": "text/x-python",
   "name": "python",
   "nbconvert_exporter": "python",
   "pygments_lexer": "ipython3",
   "version": "3.10.9"
  }
 },
 "nbformat": 4,
 "nbformat_minor": 5
}
