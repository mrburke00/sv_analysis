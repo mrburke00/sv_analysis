{
 "cells": [
  {
   "cell_type": "code",
   "execution_count": 80,
   "id": "8ee192d5-0dfa-4de5-96b6-bad80ebe4bff",
   "metadata": {},
   "outputs": [],
   "source": [
    "import re\n",
    "import matplotlib.pyplot as plt\n",
    "import operator"
   ]
  },
  {
   "cell_type": "code",
   "execution_count": 81,
   "id": "cb1eb82f-9f64-49d8-99f6-51958136e781",
   "metadata": {},
   "outputs": [],
   "source": [
    "bed_file = 'horse/gene_ant_full.txt'\n",
    "output_file = 'horse/sep1_244_gene_ant.bed'"
   ]
  },
  {
   "cell_type": "code",
   "execution_count": 96,
   "id": "c5e08513-3528-4a58-a1d7-e81cfaa78495",
   "metadata": {},
   "outputs": [
    {
     "name": "stdout",
     "output_type": "stream",
     "text": [
      "['10\\tensembl\\tgene\\t25714426\\t25740647\\t.\\t+\\t.\\tgene_id \"ENSECAG00000010995\"', ' gene_version \"4\"', ' gene_name \"ZNF667\"', ' gene_source \"ensembl\"', ' gene_biotype \"protein_coding\"', '\\t10\\t25725212\\t25725212\\n']\n",
      "ZNF667\n",
      "10\t25725212\t25725212\n",
      "['10\\tensembl\\ttranscript\\t25719808\\t25740647\\t.\\t+\\t.\\tgene_id \"ENSECAG00000010995\"', ' gene_version \"4\"', ' transcript_id \"ENSECAT00000146740\"', ' transcript_version \"1\"', ' gene_name \"ZNF667\"', ' gene_source \"ensembl\"', ' gene_biotype \"protein_coding\"', ' transcript_name \"ZNF667-205\"', ' transcript_source \"ensembl\"', ' transcript_biotype \"protein_coding\"', '\\t10\\t25725212\\t25725212\\n']\n",
      "ZNF667\n",
      "10\t25725212\t25725212\n",
      "['10\\tensembl\\ttranscript\\t25714466\\t25740647\\t.\\t+\\t.\\tgene_id \"ENSECAG00000010995\"', ' gene_version \"4\"', ' transcript_id \"ENSECAT00000011342\"', ' transcript_version \"4\"', ' gene_name \"ZNF667\"', ' gene_source \"ensembl\"', ' gene_biotype \"protein_coding\"', ' transcript_name \"ZNF667-203\"', ' transcript_source \"ensembl\"', ' transcript_biotype \"protein_coding\"', '\\t10\\t25725212\\t25725212\\n']\n",
      "ZNF667\n",
      "10\t25725212\t25725212\n",
      "['10\\tensembl\\ttranscript\\t25714466\\t25740647\\t.\\t+\\t.\\tgene_id \"ENSECAG00000010995\"', ' gene_version \"4\"', ' transcript_id \"ENSECAT00000141465\"', ' transcript_version \"1\"', ' gene_name \"ZNF667\"', ' gene_source \"ensembl\"', ' gene_biotype \"protein_coding\"', ' transcript_name \"ZNF667-204\"', ' transcript_source \"ensembl\"', ' transcript_biotype \"protein_coding\"', '\\t10\\t25725212\\t25725212\\n']\n",
      "ZNF667\n",
      "10\t25725212\t25725212\n",
      "['10\\tensembl\\ttranscript\\t25714456\\t25740647\\t.\\t+\\t.\\tgene_id \"ENSECAG00000010995\"', ' gene_version \"4\"', ' transcript_id \"ENSECAT00000089632\"', ' transcript_version \"1\"', ' gene_name \"ZNF667\"', ' gene_source \"ensembl\"', ' gene_biotype \"protein_coding\"', ' transcript_name \"ZNF667-202\"', ' transcript_source \"ensembl\"', ' transcript_biotype \"protein_coding\"', '\\t10\\t25725212\\t25725212\\n']\n",
      "ZNF667\n",
      "10\t25725212\t25725212\n",
      "['10\\tensembl\\ttranscript\\t25714426\\t25740647\\t.\\t+\\t.\\tgene_id \"ENSECAG00000010995\"', ' gene_version \"4\"', ' transcript_id \"ENSECAT00000118650\"', ' transcript_version \"1\"', ' gene_name \"ZNF667\"', ' gene_source \"ensembl\"', ' gene_biotype \"protein_coding\"', ' transcript_name \"ZNF667-201\"', ' transcript_source \"ensembl\"', ' transcript_biotype \"protein_coding\"', '\\t10\\t25725212\\t25725212\\n']\n",
      "ZNF667\n",
      "10\t25725212\t25725212\n"
     ]
    }
   ],
   "source": [
    "gene_names = {}\n",
    "with open(bed_file) as f:\n",
    "    with open(output_file, 'w') as w:\n",
    "        lines = f.readlines()\n",
    "        for line in lines:\n",
    "            try:\n",
    "                name = re.search('gene_name (.*); gene_source', line).group(1)\n",
    "                name =  name.strip('\"')\n",
    "                line = line.split(';')\n",
    "                s = line[-1:][0]\n",
    "                if name == 'ZNF667':\n",
    "                    print(line)\n",
    "                    print(name)\n",
    "                    print(s.strip())\n",
    "                w.write(s.strip() + '\\t' + name + '\\n')\n",
    "            except:\n",
    "                continue\n",
    "\n"
   ]
  },
  {
   "cell_type": "code",
   "execution_count": null,
   "id": "5db9d15f-ce6e-4e1e-ba2d-3b0bf413d107",
   "metadata": {},
   "outputs": [],
   "source": []
  },
  {
   "cell_type": "code",
   "execution_count": null,
   "id": "11bd1173-034c-4797-b1e5-c52459fb057a",
   "metadata": {},
   "outputs": [],
   "source": [
    "\n"
   ]
  },
  {
   "cell_type": "code",
   "execution_count": 91,
   "id": "ecfc2e25-c54f-4a60-869f-942b15fb84ba",
   "metadata": {},
   "outputs": [
    {
     "name": "stdout",
     "output_type": "stream",
     "text": [
      "Dictionary in ascending order by value :  [('\"TCERG1L\"', 2), ('\"GSTO2\"', 2), ('\"CGNL1\"', 2), ('\"WDFY4\"', 2), ('\"MYO5C\"', 2), ('\"RAB8B\"', 2), ('\"ARHGAP6\"', 2), ('\"FAM199X\"', 2), ('\"SEPSECS\"', 2), ('\"FRYL\"', 2), ('\"FGA\"', 2), ('\"ZSWIM5\"', 2), ('\"DNAJC8\"', 2), ('\"RNF220\"', 2), ('\"MYOZ2\"', 2), ('\"SLC25A40\"', 2), ('\"NOD1\"', 2), ('\"WSB2\"', 2), ('\"RAB27B\"', 2), ('\"CCDC62\"', 2), ('\"PBX1\"', 2), ('\"OLFM3\"', 2), ('\"CD1C\"', 2), ('\"CDC42SE2\"', 2), ('\"TCF7L1\"', 2), ('\"GK5\"', 2), ('\"TOP2B\"', 2), ('\"VGLL4\"', 2), ('\"TRAK1\"', 2), ('\"MYO1A\"', 2), ('\"ETNK1\"', 2), ('\"XKR4\"', 2), ('\"C8orf34\"', 2), ('\"STMN2\"', 2), ('\"ZNF134\"', 2), ('\"HIBCH\"', 2), ('\"STK17B\"', 2), ('\"FGF9\"', 2), ('\"SLITRK1\"', 2), ('\"MAK\"', 2), ('\"IGSF11\"', 2), ('\"FBXO40\"', 2), ('\"FYTTD1\"', 2), ('\"TRARG1\"', 2), ('\"MRPS7\"', 2), ('\"PIGL\"', 2), ('\"NUP85\"', 2), ('\"CDH6\"', 2), ('\"MRPS30\"', 2), ('\"KLF9\"', 2), ('\"TMX4\"', 2), ('\"THBD\"', 2), ('\"GINS1\"', 2), ('\"ELK3\"', 2), ('\"ROBO2\"', 2), ('\"ROBO1\"', 2), ('\"CSGALNACT1\"', 2), ('\"CTTN\"', 2), ('\"SHANK2\"', 2), ('\"CUL2\"', 2), ('\"FAM107B\"', 2), ('\"CAPN8\"', 2), ('\"MARCHF5\"', 3), ('\"ADAM10\"', 3), ('\"PNLIPRP3\"', 3), ('\"SLC25A16\"', 3), ('\"DNAAF1\"', 3), ('\"NOP14\"', 3), ('\"MGARP\"', 3), ('\"GATA4\"', 3), ('\"MARCHF1\"', 3), ('\"C2H1orf50\"', 3), ('\"ZNRF2\"', 3), ('\"TWIST1\"', 3), ('\"TMEM178B\"', 3), ('\"INSR\"', 3), ('\"CDH20\"', 3), ('\"UOX\"', 3), ('\"DNASE2B\"', 3), ('\"CLINT1\"', 3), ('\"MERTK\"', 3), ('\"GXYLT2\"', 3), ('\"CCDC174\"', 3), ('\"IRAK2\"', 3), ('\"CDV3\"', 3), ('\"PRICKLE1\"', 3), ('\"SYT10\"', 3), ('\"MFSD4B\"', 3), ('\"PLEKHF1\"', 3), ('\"LYPD3\"', 3), ('\"ZC3H15\"', 3), ('\"CSRNP3\"', 3), ('\"CYP20A1\"', 3), ('\"GPR155\"', 3), ('\"MYO16\"', 3), ('\"PKHD1\"', 3), ('\"GLO1\"', 3), ('\"ATP6V1A\"', 3), ('\"FAM222B\"', 3), ('\"HCN1\"', 3), ('\"TMPRSS3\"', 3), ('\"ANK1\"', 3), ('\"PSD3\"', 3), ('\"UST\"', 3), ('\"CFAP58\"', 4), ('\"RORA\"', 4), ('\"SHC4\"', 4), ('\"MGA\"', 4), ('\"RYR3\"', 4), ('\"ARHGAP5\"', 4), ('\"MSL3\"', 4), ('\"STS\"', 4), ('\"SLC25A5\"', 4), ('\"ALPK1\"', 4), ('\"PPP1R9A\"', 4), ('\"IKZF1\"', 4), ('\"DNAH11\"', 4), ('\"PCLO\"', 4), ('\"PLXNA4\"', 4), ('\"KLHDC10\"', 4), ('\"FAT3\"', 4), ('\"ZBTB16\"', 4), ('\"PPME1\"', 4), ('\"TRIM66\"', 4), ('\"EMILIN2\"', 4), ('\"VSIG10\"', 4), ('\"GAREM1\"', 4), ('\"CCDC68\"', 4), ('\"GPR161\"', 4), ('\"CTSE\"', 4), ('\"OR10X1\"', 4), ('\"APC\"', 4), ('\"GABRB2\"', 4), ('\"GALNT14\"', 4), ('\"TAFA1\"', 4), ('\"PLS1\"', 4), ('\"THRB\"', 4), ('\"NKIRAS1\"', 4), ('\"CLSTN3\"', 4), ('\"EPS8\"', 4), ('\"NKAIN2\"', 4), ('\"ZRANB3\"', 4), ('\"THSD7B\"', 4), ('\"LRP1B\"', 4), ('\"XPO4\"', 4), ('\"GPX6\"', 4), ('\"PTCHD4\"', 4), ('\"FKBP5\"', 4), ('\"CBLB\"', 4), ('\"TRAT1\"', 4), ('\"CENPV\"', 4), ('\"ALDH3A1\"', 4), ('\"PDE4D\"', 4), ('\"CDK7\"', 4), ('\"CDC37L1\"', 4), ('\"FERMT1\"', 4), ('\"AK7\"', 4), ('\"CKAP4\"', 4), ('\"ASCL1\"', 4), ('\"SAMM50\"', 4), ('\"HIP1\"', 4), ('\"NCAM2\"', 4), ('\"DLC1\"', 4), ('\"LBR\"', 4), ('\"MXI1\"', 5), ('\"BUB1B\"', 5), ('\"GNB5\"', 5), ('\"SEM1\"', 5), ('\"SEMA3E\"', 5), ('\"RELN\"', 5), ('\"HDAC9\"', 5), ('\"ABCF2\"', 5), ('\"LHFPL3\"', 5), ('\"NAMPT\"', 5), ('\"RAB38\"', 5), ('\"SPPL3\"', 5), ('\"TMEM132B\"', 5), ('\"ST8SIA5\"', 5), ('\"KANK4\"', 5), ('\"PAM\"', 5), ('\"ANXA6\"', 5), ('\"CNTN3\"', 5), ('\"CHL1\"', 5), ('\"UBE2E1\"', 5), ('\"GORASP1\"', 5), ('\"TOPBP1\"', 5), ('\"TAFA2\"', 5), ('\"ARFGEF1\"', 5), ('\"XIRP2\"', 5), ('\"INO80D\"', 5), ('\"DYNC1I2\"', 5), ('\"DCLK1\"', 5), ('\"MICU2\"', 5), ('\"EQMCE1\"', 5), ('\"IFT80\"', 5), ('\"GGA3\"', 5), ('\"SPECC1\"', 5), ('\"ATP6V1D\"', 5), ('\"RCOR1\"', 5), ('\"PAH\"', 5), ('\"SHISA9\"', 5), ('\"RABEP2\"', 5), ('\"SNX30\"', 5), ('\"LDLRAD3\"', 5), ('\"CUBN\"', 5), ('\"UNC13C\"', 6), ('\"HERC1\"', 6), ('\"DIAPH2\"', 6), ('\"HNRNPD\"', 6), ('\"BMPR1B\"', 6), ('\"RCC2\"', 6), ('\"RUNDC3B\"', 6), ('\"LUZP2\"', 6), ('\"ANKRD13C\"', 6), ('\"VAV3\"', 6), ('\"STX6\"', 6), ('\"BCAR3\"', 6), ('\"CTNNA2\"', 6), ('\"VPS54\"', 6), ('\"MAGI1\"', 6), ('\"MLH1\"', 6), ('\"SMARCC2\"', 6), ('\"CHD7\"', 6), ('\"KHDRBS3\"', 6), ('\"FER1L6\"', 6), ('\"AFG1L\"', 6), ('\"AKAP7\"', 6), ('\"ZNF667\"', 6), ('\"PPP1R1C\"', 6), ('\"PCDH9\"', 6), ('\"BLOC1S5\"', 6), ('\"NLGN1\"', 6), ('\"ABCC5\"', 6), ('\"STXBP5L\"', 6), ('\"AK3\"', 6), ('\"ABHD12\"', 6), ('\"CDK17\"', 6), ('\"PCBP3\"', 6), ('\"UNC5D\"', 6), ('\"NMT2\"', 6), ('\"KMO\"', 6), ('\"DAPK2\"', 7), ('\"DMD\"', 7), ('\"TEC\"', 7), ('\"TAF1C\"', 7), ('\"SPIRE1\"', 7), ('\"OACYL\"', 7), ('\"LRRC40\"', 7), ('\"COL11A1\"', 7), ('\"EFNA5\"', 7), ('\"FBXO11\"', 7), ('\"LSM3\"', 7), ('\"TRAPPC9\"', 7), ('\"TSPYL4\"', 7), ('\"CCDC61\"', 7), ('\"PDE1A\"', 7), ('\"ATP8A2\"', 7), ('\"RCAN2\"', 7), ('\"FGF12\"', 7), ('\"MYH2\"', 7), ('\"OXCT1\"', 7), ('\"PTPDC1\"', 7), ('\"PPP1R13B\"', 7), ('\"BRF1\"', 7), ('\"CRYZL1\"', 7), ('\"SLC16A12\"', 8), ('\"CHRNA5\"', 8), ('\"HOMER2\"', 8), ('\"ATE1\"', 8), ('\"HS6ST2\"', 8), ('\"CCDC149\"', 8), ('\"DCLK2\"', 8), ('\"HECW1\"', 8), ('\"STARD3NL\"', 8), ('\"MICAL2\"', 8), ('\"ZNF521\"', 8), ('\"CLK4\"', 8), ('\"EDIL3\"', 8), ('\"SV2C\"', 8), ('\"ARL8B\"', 8), ('\"ZNF641\"', 8), ('\"RAPGEF4\"', 8), ('\"ZSCAN31\"', 8), ('\"KHDRBS2\"', 8), ('\"ANKS1A\"', 8), ('\"ANKS1B\"', 8), ('\"PPFIA2\"', 8), ('\"SLC17A8\"', 8), ('\"DDX31\"', 8), ('\"CCDC3\"', 8), ('\"ENAH\"', 8), ('\"NIN\"', 9), ('\"DOCK11\"', 9), ('\"RPS6KA3\"', 9), ('\"MSRA\"', 9), ('\"C2CD3\"', 9), ('\"CSNK1A1\"', 9), ('\"PTPRG\"', 9), ('\"PLEKHA5\"', 9), ('\"DENND5B\"', 9), ('\"FMNL2\"', 9), ('\"LRCH3\"', 9), ('\"MYO10\"', 9), ('\"DHX35\"', 9), ('\"MADD\"', 9), ('\"DISP1\"', 9), ('\"ADK\"', 10), ('\"TECRL\"', 10), ('\"ASB4\"', 10), ('\"PRCP\"', 10), ('\"NOL4\"', 10), ('\"DCAF6\"', 10), ('\"ZBED8\"', 10), ('\"FANCL\"', 10), ('\"COPB2\"', 10), ('\"USP40\"', 10), ('\"CNTN1\"', 10), ('\"NT5DC1\"', 10), ('\"ELOVL4\"', 10), ('\"OSBPL6\"', 10), ('\"DTNBP1\"', 10), ('\"KDM4C\"', 10), ('\"FKTN\"', 10), ('\"ADAM9\"', 10), ('\"STXBP5\"', 10), ('\"C3H16orf87\"', 11), ('\"TPK1\"', 11), ('\"AMPH\"', 11), ('\"ARHGAP42\"', 11), ('\"LAMA2\"', 11), ('\"SNAP91\"', 11), ('\"RAD51B\"', 11), ('\"TTLL5\"', 11), ('\"SUSD1\"', 11), ('\"UTRN\"', 11), ('\"PRKN\"', 11), ('\"WDR11\"', 12), ('\"INPP4B\"', 12), ('\"ADCY8\"', 12), ('\"MMS22L\"', 12), ('\"C18H2orf88\"', 12), ('\"C1H10orf71\"', 13), ('\"RHOG\"', 13), ('\"ATP6V0D2\"', 13), ('\"VPS33B\"', 14), ('\"GUCY1A1\"', 14), ('\"FBXL13\"', 14), ('\"NRCAM\"', 14), ('\"EIF4E3\"', 14), ('\"ARPP21\"', 14), ('\"GAS7\"', 14), ('\"CCDC125\"', 14), ('\"GRIK1\"', 14), ('\"CAMSAP2\"', 14), ('\"HNRNPF\"', 15), ('\"ATPSCKMT\"', 16), ('\"FLRT2\"', 16), ('\"WDR17\"', 16), ('\"MTHFD1L\"', 16), ('\"CSMD1\"', 17), ('\"BBS9\"', 18), ('\"MPPED2\"', 18), ('\"CEP350\"', 18), ('\"RGS6\"', 18), ('\"TSPYL1\"', 19), ('\"AKAP12\"', 20), ('\"TMCC3\"', 21), ('\"MAPK10\"', 22), ('\"CCDC91\"', 22), ('\"WWOX\"', 24), ('\"MBD5\"', 24), ('\"HTD2\"', 31)]\n"
     ]
    }
   ],
   "source": [
    "gene_names = {}\n",
    "with open(bed_file) as f:\n",
    "    lines = f.readlines()\n",
    "    for line in lines:\n",
    "        s = 'asdf=5;iwantthis123jasd'\n",
    "        try:\n",
    "            name = re.search('gene_name (.*); gene_source', line).group(1)\n",
    "            if name not in gene_names.keys():\n",
    "                gene_names[name] = 1\n",
    "            else:\n",
    "                gene_names[name] += 1 \n",
    "        except:\n",
    "            continue\n",
    "\n",
    "sorted_d = sorted(gene_names.items(), key=operator.itemgetter(1))\n",
    "print('Dictionary in ascending order by value : ',sorted_d)"
   ]
  },
  {
   "cell_type": "code",
   "execution_count": null,
   "id": "c7f5af55-da0c-4aa1-b413-2e1a46e9a0e2",
   "metadata": {},
   "outputs": [],
   "source": []
  }
 ],
 "metadata": {
  "kernelspec": {
   "display_name": "Python 3 (ipykernel)",
   "language": "python",
   "name": "python3"
  },
  "language_info": {
   "codemirror_mode": {
    "name": "ipython",
    "version": 3
   },
   "file_extension": ".py",
   "mimetype": "text/x-python",
   "name": "python",
   "nbconvert_exporter": "python",
   "pygments_lexer": "ipython3",
   "version": "3.10.9"
  }
 },
 "nbformat": 4,
 "nbformat_minor": 5
}
