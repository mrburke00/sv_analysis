{
 "cells": [
  {
   "cell_type": "code",
   "execution_count": null,
   "id": "cc0396c6-bda8-42f6-90cc-33f285afc61a",
   "metadata": {},
   "outputs": [],
   "source": [
    "##\n",
    "# When extracting info for insertions - sequences come in bed format\n",
    "# This will convert that format to a proper fasta format\n",
    "##\n",
    "bed_file = 'horse/peak_info.txt'\n",
    "output_file = 'horse/peak_output.txt'"
   ]
  },
  {
   "cell_type": "code",
   "execution_count": null,
   "id": "a7ef8c16-b924-44b9-bbb3-60520d2496d7",
   "metadata": {},
   "outputs": [],
   "source": [
    "\n",
    "entries = []\n",
    "with open(bed_file) as f:\n",
    "    lines = f.readlines()\n",
    "    for line in lines:\n",
    "        line = line.split()\n",
    "        end = int(line[1]) + int(line[2])\n",
    "        t = \">\"+line[0]+\":\"+line[1]+\"-\"+str(end)\n",
    "        entries.append((t, line[3]))\n"
   ]
  },
  {
   "cell_type": "code",
   "execution_count": null,
   "id": "163e5555-4b00-4037-b66e-f520e99d44c9",
   "metadata": {},
   "outputs": [],
   "source": [
    "with open(output_file, 'w') as f:\n",
    "    for entry in entries:\n",
    "        f.write(entry[0])\n",
    "        f.write('\\n')\n",
    "        f.write(entry[1])\n",
    "        f.write('\\n')"
   ]
  },
  {
   "cell_type": "code",
   "execution_count": 1,
   "id": "36f8eca1-b94f-4146-af60-759bab6148d3",
   "metadata": {},
   "outputs": [],
   "source": [
    "## convert from fasta to bed ##\n",
    "species = 'horse'\n",
    "fasta_file = \"horse/\"+species+\"_insertion_1374.txt\"\n",
    "output_file = \"horse/\"+species+\"_sep1_1374.bed\""
   ]
  },
  {
   "cell_type": "code",
   "execution_count": 3,
   "id": "186866d3-e409-49b1-a535-27bd204d9483",
   "metadata": {},
   "outputs": [],
   "source": [
    "entries = []\n",
    "with open(fasta_file) as f:\n",
    "    with open(output_file, 'w') as r:\n",
    "        lines = f.readlines()\n",
    "        for line in lines:\n",
    "            line = line.split()\n",
    "            if \">\" in line[0]:\n",
    "                t = line[0].split(\":\")\n",
    "                chrom = t[0].strip(\">\")\n",
    "                start = t[1].split(\"-\")[0]\n",
    "                end = t[1].split(\"-\")[0]\n",
    "                spec = t[1].split(\"?\")[1]\n",
    "                r.write(chrom + '\\t' + start + '\\t' + end + '\\t' + spec + '\\n')\n",
    "        \n"
   ]
  },
  {
   "cell_type": "code",
   "execution_count": null,
   "id": "3d54a92c-144c-4a59-854e-78eac20eaf89",
   "metadata": {},
   "outputs": [],
   "source": []
  },
  {
   "cell_type": "code",
   "execution_count": null,
   "id": "64ea78f2-4481-4d7b-8979-4a0435331276",
   "metadata": {},
   "outputs": [],
   "source": []
  }
 ],
 "metadata": {
  "kernelspec": {
   "display_name": "Python 3 (ipykernel)",
   "language": "python",
   "name": "python3"
  },
  "language_info": {
   "codemirror_mode": {
    "name": "ipython",
    "version": 3
   },
   "file_extension": ".py",
   "mimetype": "text/x-python",
   "name": "python",
   "nbconvert_exporter": "python",
   "pygments_lexer": "ipython3",
   "version": "3.10.9"
  }
 },
 "nbformat": 4,
 "nbformat_minor": 5
}
