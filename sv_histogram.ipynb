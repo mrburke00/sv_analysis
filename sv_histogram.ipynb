{
 "cells": [
  {
   "cell_type": "code",
   "execution_count": 1,
   "id": "5e061cc7-bab0-4027-8bcb-cb808434a78d",
   "metadata": {},
   "outputs": [],
   "source": [
    "import pandas as pd\n",
    "import matplotlib.pyplot as plt\n",
    "import numpy as np\n",
    "%matplotlib inline"
   ]
  },
  {
   "cell_type": "code",
   "execution_count": 2,
   "id": "c7094b8f-b597-41b3-80ef-5fcc8db70911",
   "metadata": {},
   "outputs": [],
   "source": [
    "sv_info_file = 'horse/horse_info.txt'\n",
    "sv_type = 'DEL'"
   ]
  },
  {
   "cell_type": "code",
   "execution_count": 3,
   "id": "fc967b9e-ae2e-4da1-a39e-a3ffd0eca05f",
   "metadata": {},
   "outputs": [],
   "source": [
    "#DELETIONS#\n",
    "#df = pd.read_csv(sv_info_file, sep='\\t', lineterminator='\\n')\n",
    "#df.columns = ['chrom', 'start', 'end', 'length']\n",
    "#new_len = []\n",
    "#for i,row in df.iterrows():\n",
    "#    lens = row['end'] - row['start']\n",
    "#    new_len.append(lens)\n",
    "#df['length'] = new_len"
   ]
  },
  {
   "cell_type": "code",
   "execution_count": 4,
   "id": "45951e7e-8962-4a68-b94c-0535b6b0bba2",
   "metadata": {},
   "outputs": [
    {
     "name": "stdout",
     "output_type": "stream",
     "text": [
      "   1  3033494  3033494.1     .  \\\n",
      "0  1  3416469    3416469     .   \n",
      "1  1  4086331    4086516  6641   \n",
      "2  1  6036546    6036546   250   \n",
      "3  1  6100124    6100124   250   \n",
      "4  1  6764192    6764192    56   \n",
      "\n",
      "  GCAACCCGTCCTGTTGATAACAGTGCTAATCACTCCACCTCACACTGGTGAGACAACAAAACCTTACAATTGTTGAGCGTCATAACTTCTCTTCGGTTTATAGTGCCAACGCCATTTTCATCTTTTGGGTATTTATTGTTTTTGTTGTTGGTTTTGTTTTTTGAGGAAGACTGGCCCTGAGCTAACATCCGTGCCCATCTTCCTCTACTTTACATGTGGGACGCCTACCACAGCATGACGTGCCAAGCAGTGCCATGTCTGCACCCAGGATCCGAACCGACGAACCTCGGGCCGCCAAAGCAGAACATGTGAGCTTAACCACTGCGCCACCAAGCCAGGCCTCTTTTGGGTATTTAAGTAAGTCAGGATAGTCTA-ATTATACAGCATCTCCTGTTCCTGGAGCAGCTGCTTACCACTCGGGACTCTGCCCAAGCCAGTCCCTCTGTCTGGAACGTCCACCCCTCGTCTCCCCTTCCAGTCAGGCTTCAG  \\\n",
      "0  TTTAAAGATTTTATTTTTTTCCTTTTTCTCCCCAAAGCCCCCCTGG...                                                                                                                                                                                                                                                                                                                                                                                                                                                           \n",
      "1  TTTTTTTTTTTTATTAATGTTATGATAGATTACAACCTTGTGAGAT...                                                                                                                                                                                                                                                                                                                                                                                                                                                           \n",
      "2  AAAAACATAGATGCCGGGGCTGGCCCCGTGGCCGGGTGGTTAAGTT...                                                                                                                                                                                                                                                                                                                                                                                                                                                           \n",
      "3  TGGGGCTGGCCCCGTGGCCGAGTGGTTAAGTTTGCGCGCTCCGCTG...                                                                                                                                                                                                                                                                                                                                                                                                                                                           \n",
      "4  GTGGGAGTAGAAGTGATGGTCATTGACTATAGGAATGGAGGTGATG...                                                                                                                                                                                                                                                                                                                                                                                                                                                           \n",
      "\n",
      "   przewalski  \n",
      "0  przewalski  \n",
      "1  przewalski  \n",
      "2  przewalski  \n",
      "3  przewalski  \n",
      "4  przewalski  \n",
      "  chrom    start      end length  \\\n",
      "0     1  3416469  3416469      .   \n",
      "1     1  4086331  4086516   6641   \n",
      "2     1  6036546  6036546    250   \n",
      "3     1  6100124  6100124    250   \n",
      "4     1  6764192  6764192     56   \n",
      "\n",
      "                                                 seq     species  \n",
      "0  TTTAAAGATTTTATTTTTTTCCTTTTTCTCCCCAAAGCCCCCCTGG...  przewalski  \n",
      "1  TTTTTTTTTTTTATTAATGTTATGATAGATTACAACCTTGTGAGAT...  przewalski  \n",
      "2  AAAAACATAGATGCCGGGGCTGGCCCCGTGGCCGGGTGGTTAAGTT...  przewalski  \n",
      "3  TGGGGCTGGCCCCGTGGCCGAGTGGTTAAGTTTGCGCGCTCCGCTG...  przewalski  \n",
      "4  GTGGGAGTAGAAGTGATGGTCATTGACTATAGGAATGGAGGTGATG...  przewalski  \n"
     ]
    }
   ],
   "source": [
    "#INSERTIONS#\n",
    "df = pd.read_csv(sv_info_file, sep='\\t', lineterminator='\\n')\n",
    "print(df.head())\n",
    "#df.columns = ['chrom','length','seq']\n",
    "#df.columns = ['chrom','start','end','length']\n",
    "#df.columns = ['chrom','start','end','length','seq']\n",
    "df.columns = ['chrom','start','end','length','seq','species']\n",
    "print(df.head())"
   ]
  },
  {
   "cell_type": "code",
   "execution_count": 5,
   "id": "5283129e-05b9-48a5-a789-1ec669815ca8",
   "metadata": {},
   "outputs": [
    {
     "data": {
      "text/plain": [
       ".       25110\n",
       "246      4352\n",
       "248      4275\n",
       "249      4167\n",
       "247      4166\n",
       "        ...  \n",
       "1906        1\n",
       "4928        1\n",
       "2671        1\n",
       "3975        1\n",
       "1535        1\n",
       "Name: length, Length: 5136, dtype: int64"
      ]
     },
     "execution_count": 5,
     "metadata": {},
     "output_type": "execute_result"
    }
   ],
   "source": [
    "df['length'].value_counts()"
   ]
  },
  {
   "cell_type": "code",
   "execution_count": null,
   "id": "20168d18-a46c-42d8-92fc-226831b5aaf5",
   "metadata": {},
   "outputs": [],
   "source": []
  },
  {
   "cell_type": "code",
   "execution_count": 6,
   "id": "7cf76a43-cf25-4a36-b0b4-7fef4644e842",
   "metadata": {},
   "outputs": [
    {
     "name": "stdout",
     "output_type": "stream",
     "text": [
      "174589\n"
     ]
    }
   ],
   "source": [
    "df = df[df['length']!='.']\n",
    "#df['length'].value_counts()\n",
    "print(len(df))\n",
    "#df = df.drop_duplicates(subset='start', keep='first')\n",
    "#print(len(df_new))"
   ]
  },
  {
   "cell_type": "code",
   "execution_count": 7,
   "id": "8a606dfb-4b21-4860-8700-9bb5309f9ded",
   "metadata": {},
   "outputs": [],
   "source": [
    "df['length'] = df['length'].astype(int)"
   ]
  },
  {
   "cell_type": "code",
   "execution_count": 8,
   "id": "448678a7-78a0-435d-b1c4-5594f85eb4cc",
   "metadata": {},
   "outputs": [
    {
     "data": {
      "text/plain": [
       "246     4352\n",
       "248     4275\n",
       "249     4167\n",
       "247     4166\n",
       "245     4129\n",
       "        ... \n",
       "1906       1\n",
       "4928       1\n",
       "2671       1\n",
       "3975       1\n",
       "1535       1\n",
       "Name: length, Length: 5135, dtype: int64"
      ]
     },
     "execution_count": 8,
     "metadata": {},
     "output_type": "execute_result"
    }
   ],
   "source": [
    "df['length'].value_counts()"
   ]
  },
  {
   "cell_type": "code",
   "execution_count": 48,
   "id": "505ecbec-df8f-40cc-8d53-28842a5e3729",
   "metadata": {},
   "outputs": [],
   "source": [
    "t_rows = df.query('length > 1350')\n",
    "t_rows = t_rows.query('length < 1450')"
   ]
  },
  {
   "cell_type": "code",
   "execution_count": 49,
   "id": "2ce04ec3-5435-4b15-a764-7d232ea74a87",
   "metadata": {},
   "outputs": [
    {
     "name": "stdout",
     "output_type": "stream",
     "text": [
      "1374    186\n",
      "1373    164\n",
      "1375     64\n",
      "1372     33\n",
      "1376     32\n",
      "1369     23\n",
      "1379     21\n",
      "1378     19\n",
      "1368     19\n",
      "1371     14\n",
      "Name: length, dtype: int64\n"
     ]
    }
   ],
   "source": [
    "t = t_rows['length'].value_counts()\n",
    "print(t[0:10])"
   ]
  },
  {
   "cell_type": "code",
   "execution_count": 50,
   "id": "f6e388d2-538a-4e68-9a2d-ae927152ad7b",
   "metadata": {},
   "outputs": [
    {
     "data": {
      "text/plain": [
       "Text(0.5, 0, 'Insertion Size (bp)')"
      ]
     },
     "execution_count": 50,
     "metadata": {},
     "output_type": "execute_result"
    },
    {
     "data": {
      "image/png": "[encoded data removed]",
      "text/plain": [
       "<Figure size 640x480 with 1 Axes>"
      ]
     },
     "metadata": {},
     "output_type": "display_data"
    }
   ],
   "source": [
    "plt.hist(t_rows['length'], density=False, bins=100)  # density=False would make counts\n",
    "plt.ylabel('Frequency')\n",
    "plt.xlabel('Insertion Size (bp)')\n",
    "#plt.savefig('horse/insertion_freq.pdf')"
   ]
  },
  {
   "cell_type": "markdown",
   "id": "ab9fc425-1ecb-4dc8-90a0-a1f3d6685652",
   "metadata": {},
   "source": []
  },
  {
   "cell_type": "code",
   "execution_count": 40,
   "id": "942c0406-a94d-4149-8e52-c606cf7706f9",
   "metadata": {},
   "outputs": [
    {
     "data": {
      "text/plain": [
       "([<matplotlib.patches.Wedge at 0x7f8a5b192d40>,\n",
       "  <matplotlib.patches.Wedge at 0x7f8a5b16a4a0>],\n",
       " [Text(0.37588977964987136, 1.0337827980551675, 'Reference TEs'),\n",
       "  Text(-0.37588977964987125, -1.0337827980551677, '?')],\n",
       " [Text(0.20503078889992982, 0.5638815262119095, '38.9%'),\n",
       "  Text(-0.20503078889992973, -0.5638815262119096, '61.1%')])"
      ]
     },
     "execution_count": 40,
     "metadata": {},
     "output_type": "execute_result"
    },
    {
     "data": {
      "image/png": "[encoded data removed]",
      "text/plain": [
       "<Figure size 640x480 with 1 Axes>"
      ]
     },
     "metadata": {},
     "output_type": "display_data"
    }
   ],
   "source": [
    "fig, ax = plt.subplots()\n",
    "labels = 'Reference TEs', '?'\n",
    "sizes = [1689, 2653]\n",
    "ax.pie(sizes, labels=labels, autopct='%1.1f%%')"
   ]
  },
  {
   "cell_type": "code",
   "execution_count": null,
   "id": "2c7ab796-3884-4184-851e-713025699be5",
   "metadata": {},
   "outputs": [],
   "source": []
  }
 ],
 "metadata": {
  "kernelspec": {
   "display_name": "Python 3 (ipykernel)",
   "language": "python",
   "name": "python3"
  },
  "language_info": {
   "codemirror_mode": {
    "name": "ipython",
    "version": 3
   },
   "file_extension": ".py",
   "mimetype": "text/x-python",
   "name": "python",
   "nbconvert_exporter": "python",
   "pygments_lexer": "ipython3",
   "version": "3.10.9"
  }
 },
 "nbformat": 4,
 "nbformat_minor": 5
}
