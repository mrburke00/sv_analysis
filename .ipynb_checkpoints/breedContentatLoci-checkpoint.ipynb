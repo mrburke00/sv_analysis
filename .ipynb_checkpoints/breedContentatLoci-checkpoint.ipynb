{
 "cells": [
  {
   "cell_type": "code",
   "execution_count": 50,
   "id": "e0621172-c7b8-4aac-a797-f3620c350b12",
   "metadata": {},
   "outputs": [],
   "source": [
    "from Bio import pairwise2\n",
    "from Bio.Seq import Seq\n",
    "import pandas as pd\n",
    "import matplotlib.pyplot as plt\n",
    "import numpy as np\n",
    "import re\n",
    "import seaborn as sns \n",
    "import random\n",
    "from sklearn.decomposition import PCA\n",
    "from sklearn.preprocessing import StandardScaler\n",
    "from sklearn.pipeline import Pipeline\n",
    "import scipy.cluster.hierarchy as shc\n",
    "import collections"
   ]
  },
  {
   "cell_type": "code",
   "execution_count": 9,
   "id": "04a8c115-6f21-45db-98d9-f833ee71c2fc",
   "metadata": {},
   "outputs": [],
   "source": [
    "species = \"horse\"\n",
    "bed_file = 'horse/'+'sep1_244_sorted.bed' # contains loci for all sep1 coordinates\n",
    "results_file = 'horse/'+'v2output_sep1.txt'# contains VCF info for every sample that has SV in one of the identified coordinates"
   ]
  },
  {
   "cell_type": "code",
   "execution_count": 10,
   "id": "9422b727-bec1-462e-82fd-04ef391d774d",
   "metadata": {},
   "outputs": [
    {
     "name": "stdout",
     "output_type": "stream",
     "text": [
      "362\n"
     ]
    }
   ],
   "source": [
    "cons_seq = Seq(\"nnnnnnnnnnnnnnnnnnnnnnnnnnnnnnTTTTTTTTTTTTTTTTTTAAAGATTTTATT \\\n",
    "    TTTTCCTTTTTCTCCCCAAAGCCCCnnnnCCGGTACnnnnnnnATAGTTGTGTATTCTTC \\\n",
    "    GTTGTnnnnGGGTTCTTCTAGTnTGTGGCATGTGGGACGCTnGCCTCAGCGTGGTCTGAT \\\n",
    "    GAGCAGTGCCATGTCCGCGCCCAGGATTnCGnnnAACCAACGAAACACTGGGCCGCCTGC \\\n",
    "    AGCGGAGCGCnnnnGnnCGAACTTAACCACTCGGCCACGGGGGCCAGCCCCnnnnnnnnn \\\n",
    "    nnnnnnnnnnnnnnnnnnnnnnnnnnnnnnnnnnnnn\")\n",
    "# Finding similarities\n",
    "#score = pairwise2.align.globalxx(seq1, seq1, score_only = True)\n",
    "#print(score)\n",
    "print(len(cons_seq))\n",
    "colors = {'PRZEWALSKI' : 'red', 'AKHAL-TEKE' : 'blue', 'ARABIAN' : 'green', \\\n",
    "          'QUARTER HORSE' : 'yellow', \"MONGOLIAN\" : \"brown\", \"THOROUGHBRED\" : 'orange', \\\n",
    "          'FRIESIAN' : 'black', 'HANOVARIAN' : 'pink', 'JEJU HORSE' : 'gray', \\\n",
    "          'CURLY HORSE' : 'purple', 'DEBAO' : 'teal', 'CRIOLLO' : 'tan'}"
   ]
  },
  {
   "cell_type": "code",
   "execution_count": 11,
   "id": "af349b31-b762-49b3-b22b-38abe62ca88e",
   "metadata": {},
   "outputs": [],
   "source": [
    "# get all loci\n",
    "entries = []\n",
    "with open(bed_file) as f:\n",
    "    lines = f.readlines()\n",
    "    for line in lines: #\n",
    "        line = line.split()\n",
    "        end = int(line[1]) + int(line[2])\n",
    "        t = \">\"+line[0]+\":\"+line[1]+\"-\"+str(line[1])\n",
    "        if line[0] not in ['X','Y']:\n",
    "            entries.append(t)\n",
    "meta_data = pd.read_csv('horse/horse_sra_simple.csv')\n",
    "meta_data.columns = ['sra','breed']\n",
    "color_col = []\n",
    "for index, row in meta_data.iterrows():\n",
    "    row['breed'] = row['breed'] + str(random.randint(0,9))"
   ]
  },
  {
   "cell_type": "code",
   "execution_count": 12,
   "id": "60041042-d282-4817-9d93-a5c8dd475736",
   "metadata": {},
   "outputs": [
    {
     "name": "stdout",
     "output_type": "stream",
     "text": [
      "41\n"
     ]
    }
   ],
   "source": [
    "samples = {}\n",
    "with open(results_file) as f:\n",
    "    lines = f.readlines()\n",
    "    for line in lines:\n",
    "        if \"output\" in line:\n",
    "            sample_name = line.split('/')[1].strip()\n",
    "            breed_name = meta_data.loc[meta_data['sra'] == sample_name]\n",
    "            #print(breed_name, sample_name)\n",
    "            breed_name = breed_name['breed'].values[0]\n",
    "            samples[breed_name] = np.zeros(len(entries)) \n",
    "            \n",
    "        else:\n",
    "            t = line.split()\n",
    "            chrom = t[0]\n",
    "            start = t[1]\n",
    "            end = start\n",
    "            seq = re.search('SVINSSEQ=(.*);SPLIT_READS',line)\n",
    "            seq = seq.group(1)\n",
    "            s = \">\"+chrom+\":\"+start+\"-\"+end\n",
    "            if s in entries and chrom not in  ['X', 'Y']: # SV is in TE loci, get percent identify to cons seq\n",
    "                idx = entries.index(s)\n",
    "                score = pairwise2.align.globalxx(cons_seq, Seq(seq), score_only = True)\n",
    "                samples[breed_name][idx] = score\n",
    "print(len(samples.keys()))"
   ]
  },
  {
   "cell_type": "code",
   "execution_count": 13,
   "id": "a36a8871-8f75-4e2a-8150-8779321d1824",
   "metadata": {},
   "outputs": [],
   "source": [
    "df=pd.DataFrame.from_dict(samples,orient='index').transpose()"
   ]
  },
  {
   "cell_type": "code",
   "execution_count": 14,
   "id": "926fa6d3-9406-4842-9105-d56fe370081b",
   "metadata": {},
   "outputs": [],
   "source": [
    "#df = df.loc[:, ~df.columns.str.startswith('QUARTER')]\n",
    "#df = df.loc[:, ~df.columns.str.startswith('FRIESIAN')]\n",
    "#df = df.loc[:, ~df.columns.str.startswith('MONGOLIAN')]\n",
    "#df = df.loc[:, ~df.columns.str.startswith('PRZ')]\n",
    "#df = df.loc[:, ~df.columns.str.startswith('THOROUGH')]\n",
    "#df = df.loc[:, ~df.columns.str.startswith('CRIOLLO')]\n",
    "#df = df.loc[:, ~df.columns.str.startswith('DEBAO')]\n",
    "#df = df.loc[:, ~df.columns.str.startswith('HANOV')]\n",
    "#df = df.loc[:, ~df.columns.str.startswith('JEJU')]\n",
    "#df = df.loc[:, ~df.columns.str.startswith('CURLY')]\n",
    "#df = df.loc[:, ~df.columns.str.startswith('AKHAL')]\n",
    "#df = df.loc[:, ~df.columns.str.startswith('ARAB')]\n",
    "\n",
    "cols = list(df.columns.values)\n",
    "cols = sorted(cols, key=str.lower)\n",
    "df_new = df[cols]\n",
    "df_final = df_new.iloc[0:900]\n",
    "df_final = df_final.transpose()"
   ]
  },
  {
   "cell_type": "code",
   "execution_count": 18,
   "id": "7c06b09e-beba-4b39-8b82-373a85b67fe5",
   "metadata": {},
   "outputs": [
    {
     "name": "stdout",
     "output_type": "stream",
     "text": [
      "             0    1      2    3      4      5      6    7    8    9    ...  \\\n",
      "AKHAL-TEKE2  0.0  0.0  230.0  0.0    0.0    0.0  223.0  0.0  0.0  0.0  ...   \n",
      "AKHAL-TEKE5  0.0  0.0    0.0  0.0  230.0  225.0    0.0  0.0  0.0  0.0  ...   \n",
      "AKHAL-TEKE6  0.0  0.0    0.0  0.0  230.0    0.0  222.0  0.0  0.0  0.0  ...   \n",
      "AKHAL-TEKE8  0.0  0.0  230.0  0.0    0.0    0.0    0.0  0.0  0.0  0.0  ...   \n",
      "AKHAL-TEKE9  0.0  0.0  230.0  0.0    0.0    0.0  222.0  0.0  0.0  0.0  ...   \n",
      "\n",
      "               801  802  803  804    805  806  807    808  809  810  \n",
      "AKHAL-TEKE2    0.0  0.0  0.0  0.0    0.0  0.0  0.0  227.0  0.0  0.0  \n",
      "AKHAL-TEKE5    0.0  0.0  0.0  0.0    0.0  0.0  0.0    0.0  0.0  0.0  \n",
      "AKHAL-TEKE6    0.0  0.0  0.0  0.0    0.0  0.0  0.0    0.0  0.0  0.0  \n",
      "AKHAL-TEKE8    0.0  0.0  0.0  0.0  229.0  0.0  0.0    0.0  0.0  0.0  \n",
      "AKHAL-TEKE9  229.0  0.0  0.0  0.0    0.0  0.0  0.0    0.0  0.0  0.0  \n",
      "\n",
      "[5 rows x 811 columns]\n",
      "RangeIndex(start=0, stop=811, step=1)\n"
     ]
    }
   ],
   "source": [
    "print(df_final.head())\n",
    "print(df_final.columns)"
   ]
  },
  {
   "cell_type": "code",
   "execution_count": 58,
   "id": "b0bc5657-eb4b-488e-8102-e2cdeca21e7a",
   "metadata": {},
   "outputs": [
    {
     "name": "stdout",
     "output_type": "stream",
     "text": [
      "Index(['AKHAL-TEKE2', 'AKHAL-TEKE5', 'AKHAL-TEKE6', 'AKHAL-TEKE8',\n",
      "       'AKHAL-TEKE9', 'ARABIAN2', 'ARABIAN3', 'ARABIAN4', 'ARABIAN5',\n",
      "       'ARABIAN6', 'ARABIAN7', 'CRIOLLO1', 'CURLY HORSE7', 'DEBAO4', 'DEBAO8',\n",
      "       'FRIESIAN0', 'FRIESIAN1', 'FRIESIAN4', 'FRIESIAN5', 'FRIESIAN7',\n",
      "       'FRIESIAN9', 'HANOVARIAN7', 'JEJU HORSE0', 'MONGOLIAN0', 'MONGOLIAN4',\n",
      "       'MONGOLIAN6', 'MONGOLIAN7', 'PRZEWALSKI5', 'PRZEWALSKI7', 'PRZEWALSKI8',\n",
      "       'QUARTER HORSE0', 'QUARTER HORSE3', 'QUARTER HORSE6', 'QUARTER HORSE7',\n",
      "       'QUARTER HORSE8', 'QUARTER HORSE9', 'THOROUGHBRED0', 'THOROUGHBRED3',\n",
      "       'THOROUGHBRED4', 'THOROUGHBRED6', 'THOROUGHBRED8'],\n",
      "      dtype='object')\n",
      "811\n"
     ]
    }
   ],
   "source": [
    "print(df_final.iloc[:,0].index)\n",
    "print(len(df_final.columns))\n",
    "s_names = list(df_final.iloc[:,0].index)\n",
    "contents = []\n",
    "for i in range(len(df_final.columns)):\n",
    "    vals = np.array(df_final.iloc[:,i].values)\n",
    "    idx = np.where(vals!=0)[0]\n",
    "    pos_hits = [s_names[n][:-1] for n in idx]\n",
    "    c = collections.Counter(pos_hits)\n",
    "    contents.append({k: v / len(df_final) for k, v in c.items()})"
   ]
  },
  {
   "cell_type": "code",
   "execution_count": null,
   "id": "c429fde2-9b16-42c1-babf-343fab9e3f34",
   "metadata": {},
   "outputs": [
    {
     "data": {
      "text/plain": [
       "<Axes: >"
      ]
     },
     "execution_count": 67,
     "metadata": {},
     "output_type": "execute_result"
    }
   ],
   "source": [
    "df_plot = pd.DataFrame(contents)\n",
    "df_plot[0:100].plot(kind='bar')"
   ]
  },
  {
   "cell_type": "code",
   "execution_count": null,
   "id": "09d289dd-bc81-45b2-9feb-3baba0eefe91",
   "metadata": {},
   "outputs": [],
   "source": []
  }
 ],
 "metadata": {
  "kernelspec": {
   "display_name": "Python 3 (ipykernel)",
   "language": "python",
   "name": "python3"
  },
  "language_info": {
   "codemirror_mode": {
    "name": "ipython",
    "version": 3
   },
   "file_extension": ".py",
   "mimetype": "text/x-python",
   "name": "python",
   "nbconvert_exporter": "python",
   "pygments_lexer": "ipython3",
   "version": "3.10.9"
  }
 },
 "nbformat": 4,
 "nbformat_minor": 5
}
