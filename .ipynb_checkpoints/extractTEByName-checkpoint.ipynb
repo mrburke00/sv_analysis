{
 "cells": [
  {
   "cell_type": "code",
   "execution_count": null,
   "id": "e835dd9f-496d-4823-b640-41141f2fdf72",
   "metadata": {},
   "outputs": [],
   "source": [
    "import pandas as pd\n",
    "import matplotlib.pyplot as plt\n",
    "import numpy as np"
   ]
  },
  {
   "cell_type": "code",
   "execution_count": null,
   "id": "701b725d-6496-4762-9783-7323cbc2f921",
   "metadata": {},
   "outputs": [],
   "source": [
    "species = \"horse\"\n",
    "te_file = 'horse/'+species+'_final_244.txt'\n",
    "te_name = 'horse/'+species+'_te1_names.txt'\n",
    "output_file1 = 'horse/'+species+'_sep1_244.txt'\n",
    "output_file2 = 'horse/'+species+'_sep2_244.txt'"
   ]
  },
  {
   "cell_type": "code",
   "execution_count": null,
   "id": "82db04c3-1b60-43c7-8e93-31b5de685c3a",
   "metadata": {},
   "outputs": [],
   "source": [
    "#load in te_file\n",
    "with open(te_name) as f:\n",
    "    te_names = f.readlines()\n",
    "    te_names = [s.strip() for s in te_names]"
   ]
  },
  {
   "cell_type": "code",
   "execution_count": null,
   "id": "e369ab19-9e1b-4d99-8e76-d52391d45d2c",
   "metadata": {},
   "outputs": [],
   "source": [
    "r1 = False\n",
    "r2 = False\n",
    "with open(te_file) as f:\n",
    "    with open(output_file1, 'w') as r1_f:\n",
    "        with open(output_file2, 'w') as r2_f:\n",
    "            lines = f.readlines()\n",
    "            for line in lines:\n",
    "                line = line.split()\n",
    "                if \">\" in line[0]:\n",
    "                    if line[0].strip('>') in te_names:\n",
    "                        r1 = True\n",
    "                    else:\n",
    "                        r2 = True\n",
    "                    seq = \"\"\n",
    "                    t = line[0].split(\":\")\n",
    "                    chrom = t[0].strip(\">\")\n",
    "                    start = t[1].split(\"-\")[0]\n",
    "                    end = t[1].split(\"-\")[0]\n",
    "                    spec = t[1].split(\"?\")[1]\n",
    "                    header = line[0]\n",
    "                else:\n",
    "                    seq = line[0]\n",
    "                if seq != '':\n",
    "                    if r1 == True:\n",
    "                        #print(\"r1\", header)\n",
    "                        r1_f.write(header + '\\n')\n",
    "                        r1_f.write(seq + '\\n')\n",
    "                        r1 = False\n",
    "                    else:\n",
    "                        #print(\"r2\", header)\n",
    "                        r2 = False\n",
    "                        r2_f.write(header + '\\n')\n",
    "                        r2_f.write(seq + '\\n')\n",
    "    print('done')"
   ]
  },
  {
   "cell_type": "code",
   "execution_count": 32,
   "id": "1d748748-5804-4186-ab69-73c704fd99e5",
   "metadata": {},
   "outputs": [
    {
     "ename": "ModuleNotFoundError",
     "evalue": "No module named 'biopython'",
     "output_type": "error",
     "traceback": [
      "\u001b[0;31m---------------------------------------------------------------------------\u001b[0m",
      "\u001b[0;31mModuleNotFoundError\u001b[0m                       Traceback (most recent call last)",
      "Input \u001b[0;32mIn [32]\u001b[0m, in \u001b[0;36m<cell line: 1>\u001b[0;34m()\u001b[0m\n\u001b[0;32m----> 1\u001b[0m \u001b[38;5;28;01mimport\u001b[39;00m \u001b[38;5;21;01mbiopython\u001b[39;00m\n",
      "\u001b[0;31mModuleNotFoundError\u001b[0m: No module named 'biopython'"
     ]
    }
   ],
   "source": [
    "import biopython"
   ]
  },
  {
   "cell_type": "code",
   "execution_count": 30,
   "id": "a5ca126c-7437-4a20-9eaa-119842a1ff3f",
   "metadata": {},
   "outputs": [
    {
     "name": "stdout",
     "output_type": "stream",
     "text": [
      "\u001b[33mWARNING: Ignoring invalid distribution -hapely (/Users/DBurke/opt/miniconda3/lib/python3.7/site-packages)\u001b[0m\u001b[33m\n",
      "\u001b[0mRequirement already satisfied: biopython in /Users/DBurke/opt/miniconda3/lib/python3.7/site-packages (1.79)\n",
      "Requirement already satisfied: numpy in /Users/DBurke/.local/lib/python3.7/site-packages (from biopython) (1.21.6)\n",
      "\u001b[33mWARNING: Ignoring invalid distribution -hapely (/Users/DBurke/opt/miniconda3/lib/python3.7/site-packages)\u001b[0m\u001b[33m\n",
      "\u001b[0m\u001b[33mWARNING: Error parsing requirements for ipython-genutils: [Errno 2] No such file or directory: '/Users/DBurke/opt/miniconda3/lib/python3.7/site-packages/ipython_genutils-0.2.0.dist-info/METADATA'\u001b[0m\u001b[33m\n",
      "\u001b[0m\u001b[33mWARNING: Ignoring invalid distribution -hapely (/Users/DBurke/opt/miniconda3/lib/python3.7/site-packages)\u001b[0m\u001b[33m\n",
      "\u001b[0m\u001b[33mWARNING: Ignoring invalid distribution -hapely (/Users/DBurke/opt/miniconda3/lib/python3.7/site-packages)\u001b[0m\u001b[33m\n",
      "\u001b[0m\n",
      "\u001b[1m[\u001b[0m\u001b[34;49mnotice\u001b[0m\u001b[1;39;49m]\u001b[0m\u001b[39;49m A new release of pip available: \u001b[0m\u001b[31;49m22.3.1\u001b[0m\u001b[39;49m -> \u001b[0m\u001b[32;49m23.0.1\u001b[0m\n",
      "\u001b[1m[\u001b[0m\u001b[34;49mnotice\u001b[0m\u001b[1;39;49m]\u001b[0m\u001b[39;49m To update, run: \u001b[0m\u001b[32;49mpip install --upgrade pip\u001b[0m\n"
     ]
    }
   ],
   "source": [
    "!pip3 install biopython"
   ]
  },
  {
   "cell_type": "code",
   "execution_count": null,
   "id": "8e62d6fb-566a-417f-bde8-bb83e40a54cf",
   "metadata": {},
   "outputs": [],
   "source": []
  }
 ],
 "metadata": {
  "kernelspec": {
   "display_name": "Python 3 (ipykernel)",
   "language": "python",
   "name": "python3"
  },
  "language_info": {
   "codemirror_mode": {
    "name": "ipython",
    "version": 3
   },
   "file_extension": ".py",
   "mimetype": "text/x-python",
   "name": "python",
   "nbconvert_exporter": "python",
   "pygments_lexer": "ipython3",
   "version": "3.7.13"
  }
 },
 "nbformat": 4,
 "nbformat_minor": 5
}
