{
 "cells": [
  {
   "cell_type": "code",
   "execution_count": null,
   "id": "f7aa2341-56d4-4199-a930-5fdabd9e2e9f",
   "metadata": {},
   "outputs": [],
   "source": [
    "from matplotlib_venn import venn2\n",
    "from matplotlib import pyplot as plt\n",
    "import numpy as np\n",
    "import pandas as pd\n",
    "import matplotlib.cm as mplcm\n",
    "import matplotlib.colors as colors"
   ]
  },
  {
   "cell_type": "code",
   "execution_count": null,
   "id": "faa0bb81-116f-47f4-8ad2-ad3df35c8799",
   "metadata": {},
   "outputs": [],
   "source": [
    "first_sub = ['Tigger1', 'L1MEf', 'L1MA9', 'L1MA9', \\\n",
    "             'L1MA9', 'L1MB8', 'MER5A', 'L1MA9', \\\n",
    "             'L1ME3C', 'L1MA9', 'L1M5', 'L1M5', \\\n",
    "             'L1MB1']\n",
    "second_sub = ['MER113', 'L1ME3D', 'L1MCa', 'L1MB7', 'L2a', 'L1MA6', 'L1MC1', 'L1ME2z', 'MLT2D', 'L1MA7', 'Charlie1']"
   ]
  },
  {
   "cell_type": "code",
   "execution_count": null,
   "id": "c588455e-3756-46f4-a7b1-4e451e738719",
   "metadata": {},
   "outputs": [],
   "source": [
    "list(set(first_sub) & set(second_sub))"
   ]
  },
  {
   "cell_type": "code",
   "execution_count": null,
   "id": "e289795c-ec59-4180-8515-7275f54361a1",
   "metadata": {},
   "outputs": [],
   "source": [
    "v = venn2([set(first_sub), set(second_sub)], set_labels = ('Cluster A', 'Cluster B'), set_colors=('blue', 'orange'), alpha = 0.5);\n",
    "v.get_label_by_id('10').set_text('\\n'.join(set(first_sub)))\n",
    "v.get_label_by_id('01').set_text('\\n'.join(set(second_sub)))"
   ]
  },
  {
   "cell_type": "code",
   "execution_count": null,
   "id": "659b6dfa-6c4f-4bb0-ab7f-e1c70f5252d6",
   "metadata": {},
   "outputs": [],
   "source": [
    "labels = first_sub + second_sub\n",
    "labels = set(labels)\n",
    "first_counts = dict(zip(labels, np.zeros(len(labels))))\n",
    "\n",
    "for f in first_sub:\n",
    "    if f not in first_counts.keys():\n",
    "        first_counts[f] = 1\n",
    "    else:\n",
    "        first_counts[f] += 1\n",
    "second_counts = dict(zip(labels, np.zeros(len(labels))))\n",
    "for s in second_sub:\n",
    "    if s not in second_counts.keys():\n",
    "        second_counts[s] = 1\n",
    "    else:\n",
    "        second_counts[s] += 1\n"
   ]
  },
  {
   "cell_type": "code",
   "execution_count": null,
   "id": "ff8cd914-8cb9-43de-ba7e-b39b43aa9498",
   "metadata": {},
   "outputs": [],
   "source": [
    "print(first_counts)\n",
    "print(second_counts)"
   ]
  },
  {
   "cell_type": "code",
   "execution_count": null,
   "id": "b47a74ae-6429-4fc1-8451-655c8ad09076",
   "metadata": {},
   "outputs": [],
   "source": [
    "\n",
    "from matplotlib.pyplot import figure\n",
    "\n",
    "figure(figsize=(12,10), dpi=80)\n",
    "\n",
    "f_names = list(first_counts.keys())\n",
    "f_values = list(first_counts.values())\n",
    "s_names = list(second_counts.keys())\n",
    "s_values = list(second_counts.values())\n",
    "\n",
    "\n",
    "def subcategorybar(X, vals, width=0.7):\n",
    "    n = len(vals)\n",
    "    _X = np.arange(len(X))\n",
    "    for i in range(n):\n",
    "        plt.bar(_X - width/2. + i/float(n)*width, vals[i], \n",
    "                width=width/float(n), align=\"edge\", label = 'Cluster B')   \n",
    "    plt.xticks(_X, X)\n",
    "    plt.xticks(rotation = 45)\n",
    "\n",
    "subcategorybar(f_names, [f_values,s_values])\n",
    "plt.ylabel('Frequency')\n",
    "plt.xlabel('TE SubFamily')\n",
    "plt.legend()\n",
    "plt.show()\n"
   ]
  },
  {
   "cell_type": "markdown",
   "id": "43855a61-02e9-4931-a343-1f508db5e3a4",
   "metadata": {},
   "source": [
    "# "
   ]
  },
  {
   "cell_type": "code",
   "execution_count": null,
   "id": "caeeafba-2c57-4213-9d51-aa18e388cafa",
   "metadata": {},
   "outputs": [],
   "source": [
    "df = pd.read_csv('horse/feral_out.txt', sep='\\t', lineterminator='\\n')\n",
    "df.columns = ['chrom','start','end','subfam','fam']\n",
    "x = df['subfam'].value_counts()\n",
    "y = df['fam'].value_counts()\n",
    "fig, axes = plt.subplots(nrows=2, ncols=2,figsize=(15, 15))\n",
    "\n",
    "df1 = pd.read_csv('horse/thor_out.txt', sep='\\t', lineterminator='\\n')\n",
    "df1.columns = ['chrom','start','end','subfam','fam']\n",
    "x1 = df1['subfam'].value_counts()\n",
    "y1 = df1['fam'].value_counts()\n",
    "\n",
    "df2 = pd.read_csv('horse/arab_out.txt', sep='\\t', lineterminator='\\n')\n",
    "df2.columns = ['chrom','start','end','subfam','fam']\n",
    "x2 = df2['subfam'].value_counts()\n",
    "y2 = df2['fam'].value_counts()\n",
    "\n",
    "df3 = pd.read_csv('horse/akh_out.txt', sep='\\t', lineterminator='\\n')\n",
    "df3.columns = ['chrom','start','end','subfam','fam']\n",
    "x3 = df3['subfam'].value_counts()\n",
    "y3 = df3['fam'].value_counts()\n",
    "\n",
    "\n",
    "s = 1\n",
    "e = 20\n",
    "\n",
    "t = y\n",
    "t1 = y1\n",
    "t2 = y2\n",
    "t3 = y3\n",
    "\n",
    "\n",
    "NUM_COLORS = 20\n",
    "#labels = set(list(t1.keys()) + list(t.keys()))\n",
    "#print(len(labels))\n",
    "#print(labels)\n",
    "#shared_labels = set(t.keys()).intersection(set(t1.keys()))\n",
    "shared_lables = set.intersection(set(t.keys()), set(t1.keys()), set(t2.keys()), set(t3.keys()))\n",
    "#shared_labels = set(t.keys()).intersection(set(t1.keys()))\n",
    "print(shared_labels)\n",
    "colours = dict(zip(shared_labels, plt.cm.tab20.colors[:len(shared_labels)]))\n",
    "print(len(colours))\n",
    "\n",
    "plot = t[s:e].plot.pie(title=\"Przewalksi\", legend=False, ylabel='', \\\n",
    "                   autopct='%1.1f%%', \\\n",
    "                   shadow=False, startangle=0,ax=axes[0,0],\n",
    "                   colors=[colours[v] if v in colours else 'dimgray' for v in t[s:e].keys()])\n",
    "\n",
    "plot = t1[s:e].plot.pie(title=\"Thoroughbred\", legend=False, ylabel='', \\\n",
    "                   autopct='%1.1f%%', \\\n",
    "                   shadow=False, startangle=0,ax=axes[0,1], \n",
    "                   colors=[colours[v] if v in colours else 'dimgray' for v in t1[s:e].keys()])\n",
    "\n",
    "plot = t2[s:e].plot.pie(title=\"Arabian\", legend=False, ylabel='', \\\n",
    "                   autopct='%1.1f%%', \\\n",
    "                   shadow=False, startangle=0,ax=axes[1,0], \n",
    "                   colors=[colours[v] if v in colours else 'dimgray' for v in t2[s:e].keys()])\n",
    "\n",
    "plot = t3[s:e].plot.pie(title=\"Akhal Teke\", legend=False, ylabel='', \\\n",
    "                   autopct='%1.1f%%', \\\n",
    "                   shadow=False, startangle=0,ax=axes[1,1], \n",
    "                   colors=[colours[v] if v in colours else 'dimgray' for v in t3[s:e].keys()])\n",
    "#x[0:30].plot(kind='bar',xlabel='TE Subfamily', ylabel='Frequency')"
   ]
  },
  {
   "cell_type": "markdown",
   "id": "aef46335-1a37-4dd3-a8e9-177be17245bc",
   "metadata": {},
   "source": [
    "### "
   ]
  },
  {
   "cell_type": "code",
   "execution_count": null,
   "id": "8d2f6b78-b977-4cec-88d0-7753e0c80298",
   "metadata": {},
   "outputs": [],
   "source": [
    "df = pd.read_csv('horse/feral_out.txt', sep='\\t', lineterminator='\\n')\n",
    "df.columns = ['chrom','start','end','subfam','fam']\n",
    "x = df['subfam'].value_counts()\n",
    "y = df['fam'].value_counts()\n",
    "fig, axes = plt.subplots(nrows=2, ncols=2,figsize=(15, 15))\n",
    "\n",
    "df1 = pd.read_csv('horse/thor_out.txt', sep='\\t', lineterminator='\\n')\n",
    "df1.columns = ['chrom','start','end','subfam','fam']\n",
    "x1 = df1['subfam'].value_counts()\n",
    "y1 = df1['fam'].value_counts()\n",
    "\n",
    "\n",
    "s = 1\n",
    "e = 20\n",
    "\n",
    "t = y\n",
    "t1 = y1\n",
    "\n",
    "\n",
    "\n",
    "NUM_COLORS = 20\n",
    "\n",
    "shared_labels = set(t.keys()).intersection(set(t1.keys()))\n",
    "colours = dict(zip(shared_labels, plt.cm.tab20.colors[:len(shared_labels)]))\n",
    "\n",
    "plot = t[s:e].plot.pie(title=\"Przewalksi\", legend=False, ylabel='', \\\n",
    "                   autopct='%1.1f%%', \\\n",
    "                   shadow=False, startangle=0,ax=axes[0,0],\n",
    "                   colors=[colours[v] if v in colours else 'dimgray' for v in t[s:e].keys()])\n",
    "\n",
    "plot = t1[s:e].plot.pie(title=\"Thoroughbred\", legend=False, ylabel='', \\\n",
    "                   autopct='%1.1f%%', \\\n",
    "                   shadow=False, startangle=0,ax=axes[0,1], \n",
    "                   colors=[colours[v] if v in colours else 'dimgray' for v in t1[s:e].keys()])"
   ]
  }
 ],
 "metadata": {
  "kernelspec": {
   "display_name": "Python 3 (ipykernel)",
   "language": "python",
   "name": "python3"
  },
  "language_info": {
   "codemirror_mode": {
    "name": "ipython",
    "version": 3
   },
   "file_extension": ".py",
   "mimetype": "text/x-python",
   "name": "python",
   "nbconvert_exporter": "python",
   "pygments_lexer": "ipython3",
   "version": "3.8.2"
  }
 },
 "nbformat": 4,
 "nbformat_minor": 5
}
