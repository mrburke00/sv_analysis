{
 "cells": [
  {
   "cell_type": "code",
   "execution_count": 3,
   "id": "5e061cc7-bab0-4027-8bcb-cb808434a78d",
   "metadata": {},
   "outputs": [],
   "source": [
    "import pandas as pd\n",
    "import matplotlib.pyplot as plt\n",
    "import numpy as np\n",
    "%matplotlib inline"
   ]
  },
  {
   "cell_type": "code",
   "execution_count": 4,
   "id": "c7094b8f-b597-41b3-80ef-5fcc8db70911",
   "metadata": {},
   "outputs": [],
   "source": [
    "sv_info_file = 'horse/horse_insertion_info.txt'\n",
    "sv_type = 'DEL'"
   ]
  },
  {
   "cell_type": "code",
   "execution_count": null,
   "id": "fc967b9e-ae2e-4da1-a39e-a3ffd0eca05f",
   "metadata": {},
   "outputs": [],
   "source": [
    "#DELETIONS#\n",
    "df = pd.read_csv(sv_info_file, sep='\\t', lineterminator='\\n')\n",
    "df.columns = ['chrom', 'start', 'end', 'length']\n",
    "new_len = []\n",
    "for i,row in df.iterrows():\n",
    "    lens = row['end'] - row['start']\n",
    "    new_len.append(lens)\n",
    "df['length'] = new_len"
   ]
  },
  {
   "cell_type": "code",
   "execution_count": null,
   "id": "45951e7e-8962-4a68-b94c-0535b6b0bba2",
   "metadata": {},
   "outputs": [],
   "source": [
    "#INSERTIONS#\n",
    "df = pd.read_csv(sv_info_file, sep='\\t', lineterminator='\\n')\n",
    "df.columns = ['chrom','length','seq']\n",
    "print(df.head())"
   ]
  },
  {
   "cell_type": "code",
   "execution_count": null,
   "id": "5283129e-05b9-48a5-a789-1ec669815ca8",
   "metadata": {},
   "outputs": [],
   "source": [
    "df['length'].value_counts()"
   ]
  },
  {
   "cell_type": "code",
   "execution_count": null,
   "id": "20168d18-a46c-42d8-92fc-226831b5aaf5",
   "metadata": {},
   "outputs": [],
   "source": [
    "df = df[df['length']!='.']"
   ]
  },
  {
   "cell_type": "code",
   "execution_count": null,
   "id": "7cf76a43-cf25-4a36-b0b4-7fef4644e842",
   "metadata": {},
   "outputs": [],
   "source": [
    "df['length'].value_counts()"
   ]
  },
  {
   "cell_type": "code",
   "execution_count": null,
   "id": "8a606dfb-4b21-4860-8700-9bb5309f9ded",
   "metadata": {},
   "outputs": [],
   "source": [
    "df['length'] = df['length'].astype(int)"
   ]
  },
  {
   "cell_type": "code",
   "execution_count": null,
   "id": "448678a7-78a0-435d-b1c4-5594f85eb4cc",
   "metadata": {},
   "outputs": [],
   "source": [
    "df['length'].value_counts()"
   ]
  },
  {
   "cell_type": "code",
   "execution_count": null,
   "id": "505ecbec-df8f-40cc-8d53-28842a5e3729",
   "metadata": {},
   "outputs": [],
   "source": [
    "t_rows = df.query('length > 0')\n",
    "t_rows = t_rows.query('length < 400')"
   ]
  },
  {
   "cell_type": "code",
   "execution_count": null,
   "id": "2ce04ec3-5435-4b15-a764-7d232ea74a87",
   "metadata": {},
   "outputs": [],
   "source": [
    "t = t_rows['length'].value_counts()\n",
    "print(t[0:10])"
   ]
  },
  {
   "cell_type": "code",
   "execution_count": null,
   "id": "f6e388d2-538a-4e68-9a2d-ae927152ad7b",
   "metadata": {},
   "outputs": [],
   "source": [
    "plt.hist(t_rows['length'], density=False, bins=300)  # density=False would make counts\n",
    "plt.ylabel('Frequency')\n",
    "plt.xlabel('Insertion Size (bp)')"
   ]
  },
  {
   "cell_type": "code",
   "execution_count": null,
   "id": "942c0406-a94d-4149-8e52-c606cf7706f9",
   "metadata": {},
   "outputs": [],
   "source": []
  }
 ],
 "metadata": {
  "kernelspec": {
   "display_name": "Python 3 (ipykernel)",
   "language": "python",
   "name": "python3"
  },
  "language_info": {
   "codemirror_mode": {
    "name": "ipython",
    "version": 3
   },
   "file_extension": ".py",
   "mimetype": "text/x-python",
   "name": "python",
   "nbconvert_exporter": "python",
   "pygments_lexer": "ipython3",
   "version": "3.8.2"
  }
 },
 "nbformat": 4,
 "nbformat_minor": 5
}
