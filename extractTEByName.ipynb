{
 "cells": [
  {
   "cell_type": "code",
   "execution_count": null,
   "id": "e835dd9f-496d-4823-b640-41141f2fdf72",
   "metadata": {},
   "outputs": [],
   "source": [
    "import pandas as pd\n",
    "import matplotlib.pyplot as plt\n",
    "import numpy as np"
   ]
  },
  {
   "cell_type": "code",
   "execution_count": null,
   "id": "701b725d-6496-4762-9783-7323cbc2f921",
   "metadata": {},
   "outputs": [],
   "source": [
    "species = \"horse\"\n",
    "te_file = 'horse/'+species+'_final_244.txt'\n",
    "te_name = 'horse/'+species+'_te1_names.txt'\n",
    "output_file1 = 'horse/'+species+'_sep1_244.txt'\n",
    "output_file2 = 'horse/'+species+'_sep2_244.txt'"
   ]
  },
  {
   "cell_type": "code",
   "execution_count": null,
   "id": "82db04c3-1b60-43c7-8e93-31b5de685c3a",
   "metadata": {},
   "outputs": [],
   "source": [
    "#load in te_file\n",
    "with open(te_name) as f:\n",
    "    te_names = f.readlines()\n",
    "    te_names = [s.strip() for s in te_names]"
   ]
  },
  {
   "cell_type": "code",
   "execution_count": null,
   "id": "e369ab19-9e1b-4d99-8e76-d52391d45d2c",
   "metadata": {},
   "outputs": [],
   "source": [
    "r1 = False\n",
    "r2 = False\n",
    "with open(te_file) as f:\n",
    "    with open(output_file1, 'w') as r1_f:\n",
    "        with open(output_file2, 'w') as r2_f:\n",
    "            lines = f.readlines()\n",
    "            for line in lines:\n",
    "                line = line.split()\n",
    "                if \">\" in line[0]:\n",
    "                    if line[0].strip('>') in te_names:\n",
    "                        r1 = True\n",
    "                    else:\n",
    "                        r2 = True\n",
    "                    seq = \"\"\n",
    "                    t = line[0].split(\":\")\n",
    "                    chrom = t[0].strip(\">\")\n",
    "                    start = t[1].split(\"-\")[0]\n",
    "                    end = t[1].split(\"-\")[0]\n",
    "                    spec = t[1].split(\"?\")[1]\n",
    "                    header = line[0]\n",
    "                else:\n",
    "                    seq = line[0]\n",
    "                if seq != '':\n",
    "                    if r1 == True:\n",
    "                        #print(\"r1\", header)\n",
    "                        r1_f.write(header + '\\n')\n",
    "                        r1_f.write(seq + '\\n')\n",
    "                        r1 = False\n",
    "                    else:\n",
    "                        #print(\"r2\", header)\n",
    "                        r2 = False\n",
    "                        r2_f.write(header + '\\n')\n",
    "                        r2_f.write(seq + '\\n')\n",
    "    print('done')"
   ]
  },
  {
   "cell_type": "code",
   "execution_count": null,
   "id": "1d748748-5804-4186-ab69-73c704fd99e5",
   "metadata": {},
   "outputs": [],
   "source": [
    "import biopython"
   ]
  },
  {
   "cell_type": "code",
   "execution_count": null,
   "id": "a5ca126c-7437-4a20-9eaa-119842a1ff3f",
   "metadata": {},
   "outputs": [],
   "source": [
    "!pip3 install biopython"
   ]
  },
  {
   "cell_type": "code",
   "execution_count": null,
   "id": "8e62d6fb-566a-417f-bde8-bb83e40a54cf",
   "metadata": {},
   "outputs": [],
   "source": []
  }
 ],
 "metadata": {
  "kernelspec": {
   "display_name": "Python 3 (ipykernel)",
   "language": "python",
   "name": "python3"
  },
  "language_info": {
   "codemirror_mode": {
    "name": "ipython",
    "version": 3
   },
   "file_extension": ".py",
   "mimetype": "text/x-python",
   "name": "python",
   "nbconvert_exporter": "python",
   "pygments_lexer": "ipython3",
   "version": "3.10.9"
  }
 },
 "nbformat": 4,
 "nbformat_minor": 5
}
