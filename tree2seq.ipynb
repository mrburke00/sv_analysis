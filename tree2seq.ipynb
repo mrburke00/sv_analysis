{
 "cells": [
  {
   "cell_type": "code",
   "execution_count": 45,
   "id": "ecbcb9ac-f154-4a96-bb4a-5bb813c0de1b",
   "metadata": {},
   "outputs": [],
   "source": [
    "##\n",
    "# Takes in \n",
    "#\n",
    "#\n",
    "##"
   ]
  },
  {
   "cell_type": "code",
   "execution_count": 1,
   "id": "3cc476db-a5ef-4962-ab08-6882a7f04a80",
   "metadata": {},
   "outputs": [],
   "source": [
    "cluster_file = 'horse/cluster.txt'\n",
    "fasta_file = 'horse/fres_insertion_246.txt'\n",
    "output_file = 'horse/cluster_seqs.txt'\n",
    "output_seqs = 'horse/cluster_coords.txt'\n",
    "output_bed = 'horse/cluster_coords.bed'"
   ]
  },
  {
   "cell_type": "code",
   "execution_count": 2,
   "id": "d447b2b8-0ccb-4783-9a29-809bd73ca286",
   "metadata": {},
   "outputs": [],
   "source": [
    "coords = []\n",
    "with open(cluster_file) as f:\n",
    "    lines = f.readlines()\n",
    "    for line in lines:\n",
    "        if '_' in line:\n",
    "            line = line.replace(')','')\n",
    "            line = line.replace(',','')\n",
    "            c = line.split(':')\n",
    "            c = c[0].replace('_',':')\n",
    "            coords.append(c)\n"
   ]
  },
  {
   "cell_type": "code",
   "execution_count": 4,
   "id": "5d6f1543-3955-40e1-af42-5bbb9491ed5d",
   "metadata": {},
   "outputs": [
    {
     "name": "stdout",
     "output_type": "stream",
     "text": [
      "622\n",
      "623\n",
      "done\n"
     ]
    }
   ],
   "source": [
    "with open(fasta_file) as f:\n",
    "    lines = f.readlines()\n",
    "    final_coords = []\n",
    "    for c in coords:\n",
    "        for i in range(len(lines)):\n",
    "            if c in lines[i]:\n",
    "                entry = []\n",
    "                entry.append(lines[i].strip())\n",
    "                seq = ''\n",
    "                for j in range(i+1,len(lines)):\n",
    "                    if '>' in lines[j]:\n",
    "                        entry.append(seq)\n",
    "                        final_coords.append(entry)\n",
    "                        break\n",
    "                    else:\n",
    "                        seq += lines[j].strip()\n",
    "print(len(final_coords))\n",
    "print(len(coords))\n",
    "print('done')"
   ]
  },
  {
   "cell_type": "code",
   "execution_count": 4,
   "id": "b7f1ef52-7cfa-4332-8ba6-b0b7d7e8ee7b",
   "metadata": {},
   "outputs": [],
   "source": [
    "with open(output_file, 'w') as f:\n",
    "    for coord in final_coords:\n",
    "        f.write(coord[0])\n",
    "        f.write('\\n')\n",
    "        f.write(coord[1])\n",
    "        f.write('\\n')"
   ]
  },
  {
   "cell_type": "code",
   "execution_count": 5,
   "id": "e64c4362-a2d0-4132-8d96-68e5a5d73de9",
   "metadata": {},
   "outputs": [],
   "source": [
    "with open(output_bed, 'w') as f:\n",
    "    for coord in final_coords:\n",
    "        chrom = coord[0].split(':')[0].strip('>')\n",
    "        start = coord[0].split('-')[0].split(':')[1]\n",
    "        end = coord[0].split('-')[1]\n",
    "        f.write(chrom)\n",
    "        f.write('\\t')\n",
    "        f.write(start)\n",
    "        f.write('\\t')\n",
    "        f.write(end)\n",
    "        f.write('\\n')"
   ]
  },
  {
   "cell_type": "code",
   "execution_count": 6,
   "id": "81518b2c-8d24-400e-a007-79fbb9e7dc15",
   "metadata": {},
   "outputs": [],
   "source": [
    "with open(output_seqs, 'w') as f:\n",
    "    for coord in final_coords:\n",
    "        chrom = coord[0].split(':')[0].strip('>')\n",
    "        start = coord[0].split('-')[0].split(':')[1]\n",
    "        end = coord[0].split('-')[1]\n",
    "        f.write(chrom)\n",
    "        f.write('\\t')\n",
    "        f.write(start)\n",
    "        f.write('\\t')\n",
    "        f.write(end)\n",
    "        f.write('\\n')"
   ]
  },
  {
   "cell_type": "markdown",
   "id": "534cf73c-2fbc-4fe1-b78d-33942334e0d7",
   "metadata": {
    "tags": []
   },
   "source": [
    "### "
   ]
  },
  {
   "cell_type": "code",
   "execution_count": null,
   "id": "aa4376bf-33c6-416b-943a-ffae88c7c748",
   "metadata": {},
   "outputs": [],
   "source": []
  }
 ],
 "metadata": {
  "kernelspec": {
   "display_name": "Python 3 (ipykernel)",
   "language": "python",
   "name": "python3"
  },
  "language_info": {
   "codemirror_mode": {
    "name": "ipython",
    "version": 3
   },
   "file_extension": ".py",
   "mimetype": "text/x-python",
   "name": "python",
   "nbconvert_exporter": "python",
   "pygments_lexer": "ipython3",
   "version": "3.10.9"
  }
 },
 "nbformat": 4,
 "nbformat_minor": 5
}
